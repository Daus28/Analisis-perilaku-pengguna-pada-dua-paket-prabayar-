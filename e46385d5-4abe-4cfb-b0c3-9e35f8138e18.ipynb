{
 "cells": [
  {
   "cell_type": "markdown",
   "metadata": {},
   "source": [
    "Tujuan utama proyek ini adalah untuk melakukan analisis perilaku pengguna pada dua paket prabayar yang ditawarkan oleh Megaline, yaitu paket Surf dan paket Ultimate. Departemen periklanan ingin menentukan paket mana yang lebih menguntungkan secara finansial, sehingga mereka dapat mengalokasikan anggaran iklan secara efektif.\n",
    "\n",
    "Langkah-langkah yang Akan Dilakukan:\n",
    "\n",
    "Inisialisasi dan Pemahaman Data:\n",
    "\n",
    "Memuat library yang diperlukan.\n",
    "Memahami struktur data dan tipe variabel pada setiap dataset.\n",
    "Mengidentifikasi kemungkinan kesalahan atau ketidaksesuaian dalam data.\n",
    "\n",
    "Persiapan Data:\n",
    "\n",
    "Mengkonversi format tanggal ke format yang benar.\n",
    "Mengidentifikasi dan tangani nilai-nilai yang hilang atau anomali.\n",
    "Menggabungkan data sesuai dengan kebutuhan analisis.\n",
    "\n",
    "Analisis Penggunaan:\n",
    "\n",
    "Menghitung total menit panggilan, jumlah pesan, dan volume data untuk setiap pengguna per bulan.\n",
    "Menghitung pendapatan bulanan dari setiap pengguna berdasarkan paket yang mereka gunakan.\n",
    "\n",
    "Deskripsi Statistik dan Visualisasi:\n",
    "\n",
    "Menghitung rata-rata, varians, dan standar deviasi dari penggunaan per bulan.\n",
    "Membuat histogram untuk memahami distribusi penggunaan.\n",
    "\n",
    "Uji Hipotesis:\n",
    "\n",
    "Uji hipotesis apakah rata-rata pendapatan dari pengguna Surf dan Ultimate berbeda.\n",
    "Uji hipotesis apakah rata-rata pendapatan dari pengguna di wilayah NY-NJ berbeda dengan pengguna dari wilayah lain.\n",
    "\n",
    "Kesimpulan:\n",
    "\n",
    "Ringkas temuan dan hasil analisis.\n",
    "Memberikan rekomendasi terkait paket prabayar yang lebih menguntungkan.\n",
    "Setiap langkah akan melibatkan pemeriksaan kualitas data, pemrosesan data, analisis statistik, dan visualisasi untuk mendapatkan pemahaman yang komprehensif tentang perilaku pengguna. "
   ]
  },
  {
   "cell_type": "code",
   "execution_count": 1,
   "metadata": {},
   "outputs": [],
   "source": [
    "# Muat semua library\n",
    "import pandas as pd\n",
    "import numpy as np\n",
    "import matplotlib.pyplot as plt\n",
    "import seaborn as sns\n",
    "from scipy import stats\n",
    "from scipy.stats import ttest_ind\n",
    "import scipy.stats as st\n"
   ]
  },
  {
   "cell_type": "markdown",
   "metadata": {},
   "source": [
    "## Memuat Data"
   ]
  },
  {
   "cell_type": "code",
   "execution_count": 2,
   "metadata": {},
   "outputs": [],
   "source": [
    "# Muat file data ke dalam DataFrame\n",
    "plans_df = pd.read_csv('/datasets/megaline_plans.csv')\n",
    "users_df = pd.read_csv('/datasets/megaline_users.csv')\n",
    "calls_df = pd.read_csv('/datasets/megaline_calls.csv')\n",
    "internet_df = pd.read_csv('/datasets/megaline_internet.csv')\n",
    "messages_df = pd.read_csv('/datasets/megaline_messages.csv')\n"
   ]
  },
  {
   "cell_type": "markdown",
   "metadata": {},
   "source": [
    "## Mempersiapkan Data"
   ]
  },
  {
   "cell_type": "markdown",
   "metadata": {},
   "source": [
    "## Paket Prabayar"
   ]
  },
  {
   "cell_type": "code",
   "execution_count": 3,
   "metadata": {
    "scrolled": true
   },
   "outputs": [
    {
     "name": "stdout",
     "output_type": "stream",
     "text": [
      "<class 'pandas.core.frame.DataFrame'>\n",
      "RangeIndex: 2 entries, 0 to 1\n",
      "Data columns (total 8 columns):\n",
      " #   Column                 Non-Null Count  Dtype  \n",
      "---  ------                 --------------  -----  \n",
      " 0   messages_included      2 non-null      int64  \n",
      " 1   mb_per_month_included  2 non-null      int64  \n",
      " 2   minutes_included       2 non-null      int64  \n",
      " 3   usd_monthly_pay        2 non-null      int64  \n",
      " 4   usd_per_gb             2 non-null      int64  \n",
      " 5   usd_per_message        2 non-null      float64\n",
      " 6   usd_per_minute         2 non-null      float64\n",
      " 7   plan_name              2 non-null      object \n",
      "dtypes: float64(2), int64(5), object(1)\n",
      "memory usage: 256.0+ bytes\n"
     ]
    }
   ],
   "source": [
    "# Tampilkan informasi/rangkuman umum tentang DataFrame paket-paket prabayar\n",
    "plans_df.info()"
   ]
  },
  {
   "cell_type": "code",
   "execution_count": 4,
   "metadata": {},
   "outputs": [
    {
     "data": {
      "text/html": [
       "<div>\n",
       "<style scoped>\n",
       "    .dataframe tbody tr th:only-of-type {\n",
       "        vertical-align: middle;\n",
       "    }\n",
       "\n",
       "    .dataframe tbody tr th {\n",
       "        vertical-align: top;\n",
       "    }\n",
       "\n",
       "    .dataframe thead th {\n",
       "        text-align: right;\n",
       "    }\n",
       "</style>\n",
       "<table border=\"1\" class=\"dataframe\">\n",
       "  <thead>\n",
       "    <tr style=\"text-align: right;\">\n",
       "      <th></th>\n",
       "      <th>messages_included</th>\n",
       "      <th>mb_per_month_included</th>\n",
       "      <th>minutes_included</th>\n",
       "      <th>usd_monthly_pay</th>\n",
       "      <th>usd_per_gb</th>\n",
       "      <th>usd_per_message</th>\n",
       "      <th>usd_per_minute</th>\n",
       "      <th>plan_name</th>\n",
       "    </tr>\n",
       "  </thead>\n",
       "  <tbody>\n",
       "    <tr>\n",
       "      <th>1</th>\n",
       "      <td>1000</td>\n",
       "      <td>30720</td>\n",
       "      <td>3000</td>\n",
       "      <td>70</td>\n",
       "      <td>7</td>\n",
       "      <td>0.01</td>\n",
       "      <td>0.01</td>\n",
       "      <td>ultimate</td>\n",
       "    </tr>\n",
       "    <tr>\n",
       "      <th>0</th>\n",
       "      <td>50</td>\n",
       "      <td>15360</td>\n",
       "      <td>500</td>\n",
       "      <td>20</td>\n",
       "      <td>10</td>\n",
       "      <td>0.03</td>\n",
       "      <td>0.03</td>\n",
       "      <td>surf</td>\n",
       "    </tr>\n",
       "  </tbody>\n",
       "</table>\n",
       "</div>"
      ],
      "text/plain": [
       "   messages_included  mb_per_month_included  minutes_included  \\\n",
       "1               1000                  30720              3000   \n",
       "0                 50                  15360               500   \n",
       "\n",
       "   usd_monthly_pay  usd_per_gb  usd_per_message  usd_per_minute plan_name  \n",
       "1               70           7             0.01            0.01  ultimate  \n",
       "0               20          10             0.03            0.03      surf  "
      ]
     },
     "execution_count": 4,
     "metadata": {},
     "output_type": "execute_result"
    }
   ],
   "source": [
    "# Tampilkan sampel data tentang DataFrame paket-paket prabayar\n",
    "plans_df.sample(2)"
   ]
  },
  {
   "cell_type": "markdown",
   "metadata": {},
   "source": [
    "Terdapat 2 baris (entri) dalam DataFrame ini, mewakili dua jenis paket: Ultimate dan Surf.\n",
    "\n",
    "Dataframe memiliki total 8 kolom dengan tipe data yang berbeda.\n",
    "\n",
    "Sampel Data Plans:\n",
    "Berdasarkan sampel data, kita dapat melihat nilai-nilai untuk setiap kolom dalam entri \"Ultimate\" dan \"Surf\".\n",
    "\n",
    "Data dalam DataFrame Plans sepertinya telah dimuat dengan baik dan tidak ada nilai yang hilang. \n",
    "\n",
    "Setiap paket memiliki parameter tarif yang jelas untuk menentukan biaya penggunaan yang melebihi alokasi bulanan.\n"
   ]
  },
  {
   "cell_type": "markdown",
   "metadata": {},
   "source": [
    "## Memperbaiki Data"
   ]
  },
  {
   "cell_type": "markdown",
   "metadata": {},
   "source": [
    "Terkait DataFrame plans_df, tidak ada tipe data yang perlu diperbaiki pada tahap ini, karena data tersebut sudah cukup lengkap."
   ]
  },
  {
   "cell_type": "markdown",
   "metadata": {},
   "source": [
    "\n",
    "## Memperkaya Kualitas Data"
   ]
  },
  {
   "cell_type": "markdown",
   "metadata": {},
   "source": [
    "Terkait DataFrame plans_df, tidak ada kolom tambahan yang perlu ditambahkan pada tahap ini, karena data tersebut sudah cukup lengkap dan tidak ada kolom tambahan yang diperlukan berdasarkan deskripsi proyek."
   ]
  },
  {
   "cell_type": "markdown",
   "metadata": {},
   "source": [
    "## Pengguna"
   ]
  },
  {
   "cell_type": "code",
   "execution_count": 5,
   "metadata": {},
   "outputs": [
    {
     "name": "stdout",
     "output_type": "stream",
     "text": [
      "<class 'pandas.core.frame.DataFrame'>\n",
      "RangeIndex: 500 entries, 0 to 499\n",
      "Data columns (total 8 columns):\n",
      " #   Column      Non-Null Count  Dtype \n",
      "---  ------      --------------  ----- \n",
      " 0   user_id     500 non-null    int64 \n",
      " 1   first_name  500 non-null    object\n",
      " 2   last_name   500 non-null    object\n",
      " 3   age         500 non-null    int64 \n",
      " 4   city        500 non-null    object\n",
      " 5   reg_date    500 non-null    object\n",
      " 6   plan        500 non-null    object\n",
      " 7   churn_date  34 non-null     object\n",
      "dtypes: int64(2), object(6)\n",
      "memory usage: 31.4+ KB\n"
     ]
    }
   ],
   "source": [
    "# Tampilkan informasi/rangkuman umum tentang DataFrame pengguna\n",
    "users_df.info()\n"
   ]
  },
  {
   "cell_type": "code",
   "execution_count": 6,
   "metadata": {},
   "outputs": [
    {
     "data": {
      "text/html": [
       "<div>\n",
       "<style scoped>\n",
       "    .dataframe tbody tr th:only-of-type {\n",
       "        vertical-align: middle;\n",
       "    }\n",
       "\n",
       "    .dataframe tbody tr th {\n",
       "        vertical-align: top;\n",
       "    }\n",
       "\n",
       "    .dataframe thead th {\n",
       "        text-align: right;\n",
       "    }\n",
       "</style>\n",
       "<table border=\"1\" class=\"dataframe\">\n",
       "  <thead>\n",
       "    <tr style=\"text-align: right;\">\n",
       "      <th></th>\n",
       "      <th>user_id</th>\n",
       "      <th>first_name</th>\n",
       "      <th>last_name</th>\n",
       "      <th>age</th>\n",
       "      <th>city</th>\n",
       "      <th>reg_date</th>\n",
       "      <th>plan</th>\n",
       "      <th>churn_date</th>\n",
       "    </tr>\n",
       "  </thead>\n",
       "  <tbody>\n",
       "    <tr>\n",
       "      <th>320</th>\n",
       "      <td>1320</td>\n",
       "      <td>Bert</td>\n",
       "      <td>Wells</td>\n",
       "      <td>23</td>\n",
       "      <td>Los Angeles-Long Beach-Anaheim, CA MSA</td>\n",
       "      <td>2018-02-23</td>\n",
       "      <td>surf</td>\n",
       "      <td>NaN</td>\n",
       "    </tr>\n",
       "    <tr>\n",
       "      <th>47</th>\n",
       "      <td>1047</td>\n",
       "      <td>Yuk</td>\n",
       "      <td>French</td>\n",
       "      <td>22</td>\n",
       "      <td>Indianapolis-Carmel-Anderson, IN MSA</td>\n",
       "      <td>2018-06-16</td>\n",
       "      <td>ultimate</td>\n",
       "      <td>NaN</td>\n",
       "    </tr>\n",
       "    <tr>\n",
       "      <th>167</th>\n",
       "      <td>1167</td>\n",
       "      <td>Rebbecca</td>\n",
       "      <td>Nicholson</td>\n",
       "      <td>47</td>\n",
       "      <td>Denver-Aurora-Lakewood, CO MSA</td>\n",
       "      <td>2018-04-06</td>\n",
       "      <td>surf</td>\n",
       "      <td>NaN</td>\n",
       "    </tr>\n",
       "    <tr>\n",
       "      <th>314</th>\n",
       "      <td>1314</td>\n",
       "      <td>Brice</td>\n",
       "      <td>Morgan</td>\n",
       "      <td>35</td>\n",
       "      <td>Los Angeles-Long Beach-Anaheim, CA MSA</td>\n",
       "      <td>2018-03-06</td>\n",
       "      <td>ultimate</td>\n",
       "      <td>NaN</td>\n",
       "    </tr>\n",
       "    <tr>\n",
       "      <th>213</th>\n",
       "      <td>1213</td>\n",
       "      <td>Carl</td>\n",
       "      <td>Newman</td>\n",
       "      <td>47</td>\n",
       "      <td>San Diego-Chula Vista-Carlsbad, CA MSA</td>\n",
       "      <td>2018-11-25</td>\n",
       "      <td>ultimate</td>\n",
       "      <td>NaN</td>\n",
       "    </tr>\n",
       "    <tr>\n",
       "      <th>150</th>\n",
       "      <td>1150</td>\n",
       "      <td>Earlie</td>\n",
       "      <td>Giles</td>\n",
       "      <td>46</td>\n",
       "      <td>Houston-The Woodlands-Sugar Land, TX MSA</td>\n",
       "      <td>2018-09-19</td>\n",
       "      <td>ultimate</td>\n",
       "      <td>NaN</td>\n",
       "    </tr>\n",
       "    <tr>\n",
       "      <th>256</th>\n",
       "      <td>1256</td>\n",
       "      <td>Johnny</td>\n",
       "      <td>Wise</td>\n",
       "      <td>53</td>\n",
       "      <td>Chicago-Naperville-Elgin, IL-IN-WI MSA</td>\n",
       "      <td>2018-09-11</td>\n",
       "      <td>surf</td>\n",
       "      <td>NaN</td>\n",
       "    </tr>\n",
       "    <tr>\n",
       "      <th>328</th>\n",
       "      <td>1328</td>\n",
       "      <td>Tamesha</td>\n",
       "      <td>Huber</td>\n",
       "      <td>20</td>\n",
       "      <td>Minneapolis-St. Paul-Bloomington, MN-WI MSA</td>\n",
       "      <td>2018-02-10</td>\n",
       "      <td>surf</td>\n",
       "      <td>NaN</td>\n",
       "    </tr>\n",
       "    <tr>\n",
       "      <th>298</th>\n",
       "      <td>1298</td>\n",
       "      <td>Loyce</td>\n",
       "      <td>Cooley</td>\n",
       "      <td>53</td>\n",
       "      <td>Nashville-Davidson–Murfreesboro–Franklin, TN MSA</td>\n",
       "      <td>2018-09-21</td>\n",
       "      <td>surf</td>\n",
       "      <td>2018-12-19</td>\n",
       "    </tr>\n",
       "    <tr>\n",
       "      <th>214</th>\n",
       "      <td>1214</td>\n",
       "      <td>Emil</td>\n",
       "      <td>Robles</td>\n",
       "      <td>34</td>\n",
       "      <td>San Francisco-Oakland-Berkeley, CA MSA</td>\n",
       "      <td>2018-01-01</td>\n",
       "      <td>ultimate</td>\n",
       "      <td>NaN</td>\n",
       "    </tr>\n",
       "  </tbody>\n",
       "</table>\n",
       "</div>"
      ],
      "text/plain": [
       "     user_id first_name  last_name  age  \\\n",
       "320     1320       Bert      Wells   23   \n",
       "47      1047        Yuk     French   22   \n",
       "167     1167   Rebbecca  Nicholson   47   \n",
       "314     1314      Brice     Morgan   35   \n",
       "213     1213       Carl     Newman   47   \n",
       "150     1150     Earlie      Giles   46   \n",
       "256     1256     Johnny       Wise   53   \n",
       "328     1328    Tamesha      Huber   20   \n",
       "298     1298      Loyce     Cooley   53   \n",
       "214     1214       Emil     Robles   34   \n",
       "\n",
       "                                                 city    reg_date      plan  \\\n",
       "320            Los Angeles-Long Beach-Anaheim, CA MSA  2018-02-23      surf   \n",
       "47               Indianapolis-Carmel-Anderson, IN MSA  2018-06-16  ultimate   \n",
       "167                    Denver-Aurora-Lakewood, CO MSA  2018-04-06      surf   \n",
       "314            Los Angeles-Long Beach-Anaheim, CA MSA  2018-03-06  ultimate   \n",
       "213            San Diego-Chula Vista-Carlsbad, CA MSA  2018-11-25  ultimate   \n",
       "150          Houston-The Woodlands-Sugar Land, TX MSA  2018-09-19  ultimate   \n",
       "256            Chicago-Naperville-Elgin, IL-IN-WI MSA  2018-09-11      surf   \n",
       "328       Minneapolis-St. Paul-Bloomington, MN-WI MSA  2018-02-10      surf   \n",
       "298  Nashville-Davidson–Murfreesboro–Franklin, TN MSA  2018-09-21      surf   \n",
       "214            San Francisco-Oakland-Berkeley, CA MSA  2018-01-01  ultimate   \n",
       "\n",
       "     churn_date  \n",
       "320         NaN  \n",
       "47          NaN  \n",
       "167         NaN  \n",
       "314         NaN  \n",
       "213         NaN  \n",
       "150         NaN  \n",
       "256         NaN  \n",
       "328         NaN  \n",
       "298  2018-12-19  \n",
       "214         NaN  "
      ]
     },
     "execution_count": 6,
     "metadata": {},
     "output_type": "execute_result"
    }
   ],
   "source": [
    "# Tampilkan sampel data pengguna\n",
    "users_df.sample(10)\n"
   ]
  },
  {
   "cell_type": "markdown",
   "metadata": {},
   "source": [
    "Terdapat 500 entri dalam DataFrame users_df.\n",
    "\n",
    "Kolom-kolomnya mencakup informasi seperti user_id, nama depan, nama belakang, usia, kota, tanggal mulai berlangganan (reg_date), jenis paket (plan), dan tanggal berhenti berlangganan (churn_date).\n",
    "\n",
    "Kolom churn_date memiliki 34 nilai non-null, yang menunjukkan sejumlah pengguna telah berhenti berlangganan.\n",
    "\n",
    "Sampel Data Users:\n",
    "Dalam sampel data, setiap kolom menunjukkan nilai-nilai yang tampaknya normal.\n",
    "\n",
    "Potensial Masalah:\n",
    "Terdapat nilai null pada kolom churn_date, yang menunjukkan bahwa sebagian pengguna masih aktif berlangganan. Kita perlu memutuskan bagaimana menangani nilai null ini.\n"
   ]
  },
  {
   "cell_type": "markdown",
   "metadata": {},
   "source": [
    "### Memperbaiki Data"
   ]
  },
  {
   "cell_type": "code",
   "execution_count": 7,
   "metadata": {},
   "outputs": [],
   "source": [
    "# Mengubah tipe data kolom reg_date dan churn_date dengan format tanggal (dd, mm, yy)\n",
    "users_df['reg_date'] = pd.to_datetime(users_df['reg_date'], format='%Y-%m-%d')\n",
    "users_df['churn_date'] = pd.to_datetime(users_df['churn_date'], format='%Y-%m-%d')"
   ]
  },
  {
   "cell_type": "code",
   "execution_count": 8,
   "metadata": {},
   "outputs": [],
   "source": [
    "#Tangani nilai-nilai yang hilang pada kolom 'churn_date'\n",
    "users_df['churn_date'].fillna(pd.NaT, inplace=True)"
   ]
  },
  {
   "cell_type": "markdown",
   "metadata": {},
   "source": [
    "### Memperkaya Kualitas Data"
   ]
  },
  {
   "cell_type": "code",
   "execution_count": 9,
   "metadata": {},
   "outputs": [],
   "source": [
    "# Menambahkan kolom active_status yang menunjukkan apakah pengguna masih aktif atau sudah berhenti berlangganan\n",
    "users_df['active_status'] = np.where(users_df['churn_date'].isnull(), 'Active', 'Churned')"
   ]
  },
  {
   "cell_type": "code",
   "execution_count": 10,
   "metadata": {
    "scrolled": true
   },
   "outputs": [
    {
     "name": "stdout",
     "output_type": "stream",
     "text": [
      "<class 'pandas.core.frame.DataFrame'>\n",
      "RangeIndex: 500 entries, 0 to 499\n",
      "Data columns (total 9 columns):\n",
      " #   Column         Non-Null Count  Dtype         \n",
      "---  ------         --------------  -----         \n",
      " 0   user_id        500 non-null    int64         \n",
      " 1   first_name     500 non-null    object        \n",
      " 2   last_name      500 non-null    object        \n",
      " 3   age            500 non-null    int64         \n",
      " 4   city           500 non-null    object        \n",
      " 5   reg_date       500 non-null    datetime64[ns]\n",
      " 6   plan           500 non-null    object        \n",
      " 7   churn_date     34 non-null     datetime64[ns]\n",
      " 8   active_status  500 non-null    object        \n",
      "dtypes: datetime64[ns](2), int64(2), object(5)\n",
      "memory usage: 35.3+ KB\n"
     ]
    }
   ],
   "source": [
    "users_df.info()"
   ]
  },
  {
   "cell_type": "code",
   "execution_count": 11,
   "metadata": {},
   "outputs": [
    {
     "data": {
      "text/html": [
       "<div>\n",
       "<style scoped>\n",
       "    .dataframe tbody tr th:only-of-type {\n",
       "        vertical-align: middle;\n",
       "    }\n",
       "\n",
       "    .dataframe tbody tr th {\n",
       "        vertical-align: top;\n",
       "    }\n",
       "\n",
       "    .dataframe thead th {\n",
       "        text-align: right;\n",
       "    }\n",
       "</style>\n",
       "<table border=\"1\" class=\"dataframe\">\n",
       "  <thead>\n",
       "    <tr style=\"text-align: right;\">\n",
       "      <th></th>\n",
       "      <th>user_id</th>\n",
       "      <th>first_name</th>\n",
       "      <th>last_name</th>\n",
       "      <th>age</th>\n",
       "      <th>city</th>\n",
       "      <th>reg_date</th>\n",
       "      <th>plan</th>\n",
       "      <th>churn_date</th>\n",
       "      <th>active_status</th>\n",
       "    </tr>\n",
       "  </thead>\n",
       "  <tbody>\n",
       "    <tr>\n",
       "      <th>200</th>\n",
       "      <td>1200</td>\n",
       "      <td>Delmar</td>\n",
       "      <td>Cross</td>\n",
       "      <td>45</td>\n",
       "      <td>Boston-Cambridge-Newton, MA-NH MSA</td>\n",
       "      <td>2018-11-27</td>\n",
       "      <td>surf</td>\n",
       "      <td>NaT</td>\n",
       "      <td>Active</td>\n",
       "    </tr>\n",
       "    <tr>\n",
       "      <th>326</th>\n",
       "      <td>1326</td>\n",
       "      <td>Johnathon</td>\n",
       "      <td>Branch</td>\n",
       "      <td>21</td>\n",
       "      <td>Greensboro-High Point, NC MSA</td>\n",
       "      <td>2018-02-06</td>\n",
       "      <td>surf</td>\n",
       "      <td>NaT</td>\n",
       "      <td>Active</td>\n",
       "    </tr>\n",
       "    <tr>\n",
       "      <th>124</th>\n",
       "      <td>1124</td>\n",
       "      <td>Jenell</td>\n",
       "      <td>Navarro</td>\n",
       "      <td>48</td>\n",
       "      <td>New Haven-Milford, CT MSA</td>\n",
       "      <td>2018-02-19</td>\n",
       "      <td>ultimate</td>\n",
       "      <td>NaT</td>\n",
       "      <td>Active</td>\n",
       "    </tr>\n",
       "    <tr>\n",
       "      <th>267</th>\n",
       "      <td>1267</td>\n",
       "      <td>Gia</td>\n",
       "      <td>Parker</td>\n",
       "      <td>53</td>\n",
       "      <td>St. Louis, MO-IL MSA</td>\n",
       "      <td>2018-03-12</td>\n",
       "      <td>surf</td>\n",
       "      <td>NaT</td>\n",
       "      <td>Active</td>\n",
       "    </tr>\n",
       "    <tr>\n",
       "      <th>353</th>\n",
       "      <td>1353</td>\n",
       "      <td>Emerson</td>\n",
       "      <td>Whitfield</td>\n",
       "      <td>56</td>\n",
       "      <td>North Port-Sarasota-Bradenton, FL MSA</td>\n",
       "      <td>2018-03-27</td>\n",
       "      <td>surf</td>\n",
       "      <td>NaT</td>\n",
       "      <td>Active</td>\n",
       "    </tr>\n",
       "  </tbody>\n",
       "</table>\n",
       "</div>"
      ],
      "text/plain": [
       "     user_id first_name  last_name  age  \\\n",
       "200     1200     Delmar      Cross   45   \n",
       "326     1326  Johnathon     Branch   21   \n",
       "124     1124     Jenell    Navarro   48   \n",
       "267     1267        Gia     Parker   53   \n",
       "353     1353    Emerson  Whitfield   56   \n",
       "\n",
       "                                      city   reg_date      plan churn_date  \\\n",
       "200     Boston-Cambridge-Newton, MA-NH MSA 2018-11-27      surf        NaT   \n",
       "326          Greensboro-High Point, NC MSA 2018-02-06      surf        NaT   \n",
       "124              New Haven-Milford, CT MSA 2018-02-19  ultimate        NaT   \n",
       "267                   St. Louis, MO-IL MSA 2018-03-12      surf        NaT   \n",
       "353  North Port-Sarasota-Bradenton, FL MSA 2018-03-27      surf        NaT   \n",
       "\n",
       "    active_status  \n",
       "200        Active  \n",
       "326        Active  \n",
       "124        Active  \n",
       "267        Active  \n",
       "353        Active  "
      ]
     },
     "execution_count": 11,
     "metadata": {},
     "output_type": "execute_result"
    }
   ],
   "source": [
    "users_df.sample(5)"
   ]
  },
  {
   "cell_type": "markdown",
   "metadata": {},
   "source": [
    "## Panggilan"
   ]
  },
  {
   "cell_type": "code",
   "execution_count": 12,
   "metadata": {},
   "outputs": [
    {
     "name": "stdout",
     "output_type": "stream",
     "text": [
      "<class 'pandas.core.frame.DataFrame'>\n",
      "RangeIndex: 137735 entries, 0 to 137734\n",
      "Data columns (total 4 columns):\n",
      " #   Column     Non-Null Count   Dtype  \n",
      "---  ------     --------------   -----  \n",
      " 0   id         137735 non-null  object \n",
      " 1   user_id    137735 non-null  int64  \n",
      " 2   call_date  137735 non-null  object \n",
      " 3   duration   137735 non-null  float64\n",
      "dtypes: float64(1), int64(1), object(2)\n",
      "memory usage: 4.2+ MB\n"
     ]
    }
   ],
   "source": [
    "# Tampilkan informasi/rangkuman umum tentang DataFrame panggilan\n",
    "calls_df.info()\n"
   ]
  },
  {
   "cell_type": "code",
   "execution_count": 13,
   "metadata": {},
   "outputs": [
    {
     "data": {
      "text/html": [
       "<div>\n",
       "<style scoped>\n",
       "    .dataframe tbody tr th:only-of-type {\n",
       "        vertical-align: middle;\n",
       "    }\n",
       "\n",
       "    .dataframe tbody tr th {\n",
       "        vertical-align: top;\n",
       "    }\n",
       "\n",
       "    .dataframe thead th {\n",
       "        text-align: right;\n",
       "    }\n",
       "</style>\n",
       "<table border=\"1\" class=\"dataframe\">\n",
       "  <thead>\n",
       "    <tr style=\"text-align: right;\">\n",
       "      <th></th>\n",
       "      <th>id</th>\n",
       "      <th>user_id</th>\n",
       "      <th>call_date</th>\n",
       "      <th>duration</th>\n",
       "    </tr>\n",
       "  </thead>\n",
       "  <tbody>\n",
       "    <tr>\n",
       "      <th>107325</th>\n",
       "      <td>1381_62</td>\n",
       "      <td>1381</td>\n",
       "      <td>2018-12-10</td>\n",
       "      <td>4.72</td>\n",
       "    </tr>\n",
       "    <tr>\n",
       "      <th>13479</th>\n",
       "      <td>1057_358</td>\n",
       "      <td>1057</td>\n",
       "      <td>2018-10-07</td>\n",
       "      <td>0.13</td>\n",
       "    </tr>\n",
       "    <tr>\n",
       "      <th>87007</th>\n",
       "      <td>1320_676</td>\n",
       "      <td>1320</td>\n",
       "      <td>2018-10-27</td>\n",
       "      <td>1.07</td>\n",
       "    </tr>\n",
       "    <tr>\n",
       "      <th>120204</th>\n",
       "      <td>1418_88</td>\n",
       "      <td>1418</td>\n",
       "      <td>2018-09-06</td>\n",
       "      <td>10.09</td>\n",
       "    </tr>\n",
       "    <tr>\n",
       "      <th>36741</th>\n",
       "      <td>1140_25</td>\n",
       "      <td>1140</td>\n",
       "      <td>2018-10-24</td>\n",
       "      <td>0.00</td>\n",
       "    </tr>\n",
       "  </tbody>\n",
       "</table>\n",
       "</div>"
      ],
      "text/plain": [
       "              id  user_id   call_date  duration\n",
       "107325   1381_62     1381  2018-12-10      4.72\n",
       "13479   1057_358     1057  2018-10-07      0.13\n",
       "87007   1320_676     1320  2018-10-27      1.07\n",
       "120204   1418_88     1418  2018-09-06     10.09\n",
       "36741    1140_25     1140  2018-10-24      0.00"
      ]
     },
     "execution_count": 13,
     "metadata": {},
     "output_type": "execute_result"
    }
   ],
   "source": [
    "# Tampilkan sampel data berisi panggilan\n",
    "calls_df.sample(5)\n"
   ]
  },
  {
   "cell_type": "markdown",
   "metadata": {},
   "source": [
    "Informasi DataFrame Calls:\n",
    "Terdapat 137,735 entri dalam DataFrame calls_df.\n",
    "DataFrame ini mencakup kolom-kolom seperti id (ID panggilan unik), user_id (ID pengguna), call_date (tanggal panggilan), dan duration (durasi panggilan dalam menit).\n",
    "Tipe data yang benar telah diterapkan untuk masing-masing kolom, kecuali untuk kolom call_date mungkin harusnya kita mengubah tipe data nya ke datetime.\n",
    "\n",
    "Sampel Data Calls:\n",
    "Sampel data menunjukkan bahwa tidak ada masalah yang mencolok, dan durasi panggilan direpresentasikan dalam format float64.\n",
    "Tidak ada nilai yang hilang pada DataFrame, yang merupakan hal yang baik."
   ]
  },
  {
   "cell_type": "markdown",
   "metadata": {},
   "source": [
    " "
   ]
  },
  {
   "cell_type": "markdown",
   "metadata": {},
   "source": [
    "### Memperbaiki Data"
   ]
  },
  {
   "cell_type": "code",
   "execution_count": 14,
   "metadata": {},
   "outputs": [],
   "source": [
    "# Mengubah tipe data kolom 'call_date' menjadi datetime untuk memastikan urutan yang benar dalam pengelompokan\n",
    "calls_df['call_date'] = pd.to_datetime(calls_df['call_date'], format='%Y-%m-%d')\n"
   ]
  },
  {
   "cell_type": "markdown",
   "metadata": {},
   "source": [
    "### Memperkaya Kualitas Data"
   ]
  },
  {
   "cell_type": "code",
   "execution_count": 15,
   "metadata": {},
   "outputs": [],
   "source": [
    "# Ekstrak bulan dan tahun dari kolom 'call_date'\n",
    "calls_df['month_year'] = calls_df['call_date'].dt.to_period('M')"
   ]
  },
  {
   "cell_type": "code",
   "execution_count": 16,
   "metadata": {
    "scrolled": true
   },
   "outputs": [
    {
     "name": "stdout",
     "output_type": "stream",
     "text": [
      "<class 'pandas.core.frame.DataFrame'>\n",
      "RangeIndex: 137735 entries, 0 to 137734\n",
      "Data columns (total 5 columns):\n",
      " #   Column      Non-Null Count   Dtype         \n",
      "---  ------      --------------   -----         \n",
      " 0   id          137735 non-null  object        \n",
      " 1   user_id     137735 non-null  int64         \n",
      " 2   call_date   137735 non-null  datetime64[ns]\n",
      " 3   duration    137735 non-null  float64       \n",
      " 4   month_year  137735 non-null  period[M]     \n",
      "dtypes: datetime64[ns](1), float64(1), int64(1), object(1), period[M](1)\n",
      "memory usage: 5.3+ MB\n"
     ]
    }
   ],
   "source": [
    "calls_df.info()"
   ]
  },
  {
   "cell_type": "code",
   "execution_count": 17,
   "metadata": {},
   "outputs": [
    {
     "data": {
      "text/html": [
       "<div>\n",
       "<style scoped>\n",
       "    .dataframe tbody tr th:only-of-type {\n",
       "        vertical-align: middle;\n",
       "    }\n",
       "\n",
       "    .dataframe tbody tr th {\n",
       "        vertical-align: top;\n",
       "    }\n",
       "\n",
       "    .dataframe thead th {\n",
       "        text-align: right;\n",
       "    }\n",
       "</style>\n",
       "<table border=\"1\" class=\"dataframe\">\n",
       "  <thead>\n",
       "    <tr style=\"text-align: right;\">\n",
       "      <th></th>\n",
       "      <th>id</th>\n",
       "      <th>user_id</th>\n",
       "      <th>call_date</th>\n",
       "      <th>duration</th>\n",
       "      <th>month_year</th>\n",
       "    </tr>\n",
       "  </thead>\n",
       "  <tbody>\n",
       "    <tr>\n",
       "      <th>130629</th>\n",
       "      <td>1470_78</td>\n",
       "      <td>1470</td>\n",
       "      <td>2018-05-25</td>\n",
       "      <td>0.00</td>\n",
       "      <td>2018-05</td>\n",
       "    </tr>\n",
       "    <tr>\n",
       "      <th>22969</th>\n",
       "      <td>1084_16</td>\n",
       "      <td>1084</td>\n",
       "      <td>2018-11-16</td>\n",
       "      <td>4.12</td>\n",
       "      <td>2018-11</td>\n",
       "    </tr>\n",
       "    <tr>\n",
       "      <th>1690</th>\n",
       "      <td>1009_112</td>\n",
       "      <td>1009</td>\n",
       "      <td>2018-10-25</td>\n",
       "      <td>4.70</td>\n",
       "      <td>2018-10</td>\n",
       "    </tr>\n",
       "    <tr>\n",
       "      <th>135350</th>\n",
       "      <td>1491_203</td>\n",
       "      <td>1491</td>\n",
       "      <td>2018-06-08</td>\n",
       "      <td>12.98</td>\n",
       "      <td>2018-06</td>\n",
       "    </tr>\n",
       "    <tr>\n",
       "      <th>34371</th>\n",
       "      <td>1127_213</td>\n",
       "      <td>1127</td>\n",
       "      <td>2018-07-23</td>\n",
       "      <td>8.26</td>\n",
       "      <td>2018-07</td>\n",
       "    </tr>\n",
       "  </tbody>\n",
       "</table>\n",
       "</div>"
      ],
      "text/plain": [
       "              id  user_id  call_date  duration month_year\n",
       "130629   1470_78     1470 2018-05-25      0.00    2018-05\n",
       "22969    1084_16     1084 2018-11-16      4.12    2018-11\n",
       "1690    1009_112     1009 2018-10-25      4.70    2018-10\n",
       "135350  1491_203     1491 2018-06-08     12.98    2018-06\n",
       "34371   1127_213     1127 2018-07-23      8.26    2018-07"
      ]
     },
     "execution_count": 17,
     "metadata": {},
     "output_type": "execute_result"
    }
   ],
   "source": [
    "calls_df.sample(5)"
   ]
  },
  {
   "cell_type": "markdown",
   "metadata": {},
   "source": [
    "## Pesan/SMS"
   ]
  },
  {
   "cell_type": "code",
   "execution_count": 18,
   "metadata": {},
   "outputs": [
    {
     "name": "stdout",
     "output_type": "stream",
     "text": [
      "<class 'pandas.core.frame.DataFrame'>\n",
      "RangeIndex: 76051 entries, 0 to 76050\n",
      "Data columns (total 3 columns):\n",
      " #   Column        Non-Null Count  Dtype \n",
      "---  ------        --------------  ----- \n",
      " 0   id            76051 non-null  object\n",
      " 1   user_id       76051 non-null  int64 \n",
      " 2   message_date  76051 non-null  object\n",
      "dtypes: int64(1), object(2)\n",
      "memory usage: 1.7+ MB\n"
     ]
    }
   ],
   "source": [
    "# Tampilkan informasi/rangkuman umum tentang DataFrame SMS\n",
    "messages_df.info()"
   ]
  },
  {
   "cell_type": "code",
   "execution_count": 19,
   "metadata": {},
   "outputs": [
    {
     "data": {
      "text/html": [
       "<div>\n",
       "<style scoped>\n",
       "    .dataframe tbody tr th:only-of-type {\n",
       "        vertical-align: middle;\n",
       "    }\n",
       "\n",
       "    .dataframe tbody tr th {\n",
       "        vertical-align: top;\n",
       "    }\n",
       "\n",
       "    .dataframe thead th {\n",
       "        text-align: right;\n",
       "    }\n",
       "</style>\n",
       "<table border=\"1\" class=\"dataframe\">\n",
       "  <thead>\n",
       "    <tr style=\"text-align: right;\">\n",
       "      <th></th>\n",
       "      <th>id</th>\n",
       "      <th>user_id</th>\n",
       "      <th>message_date</th>\n",
       "    </tr>\n",
       "  </thead>\n",
       "  <tbody>\n",
       "    <tr>\n",
       "      <th>65024</th>\n",
       "      <td>1416_15</td>\n",
       "      <td>1416</td>\n",
       "      <td>2018-12-27</td>\n",
       "    </tr>\n",
       "    <tr>\n",
       "      <th>30655</th>\n",
       "      <td>1193_320</td>\n",
       "      <td>1193</td>\n",
       "      <td>2018-08-04</td>\n",
       "    </tr>\n",
       "    <tr>\n",
       "      <th>56357</th>\n",
       "      <td>1356_28</td>\n",
       "      <td>1356</td>\n",
       "      <td>2018-09-29</td>\n",
       "    </tr>\n",
       "    <tr>\n",
       "      <th>53328</th>\n",
       "      <td>1339_462</td>\n",
       "      <td>1339</td>\n",
       "      <td>2018-10-12</td>\n",
       "    </tr>\n",
       "    <tr>\n",
       "      <th>1887</th>\n",
       "      <td>1019_59</td>\n",
       "      <td>1019</td>\n",
       "      <td>2018-11-26</td>\n",
       "    </tr>\n",
       "  </tbody>\n",
       "</table>\n",
       "</div>"
      ],
      "text/plain": [
       "             id  user_id message_date\n",
       "65024   1416_15     1416   2018-12-27\n",
       "30655  1193_320     1193   2018-08-04\n",
       "56357   1356_28     1356   2018-09-29\n",
       "53328  1339_462     1339   2018-10-12\n",
       "1887    1019_59     1019   2018-11-26"
      ]
     },
     "execution_count": 19,
     "metadata": {},
     "output_type": "execute_result"
    }
   ],
   "source": [
    "# Tampilkan sampel data untuk SMS\n",
    "messages_df.sample(5)\n"
   ]
  },
  {
   "cell_type": "markdown",
   "metadata": {},
   "source": [
    "Terdapat 76,051 entri dalam DataFrame messages_df.\n",
    "DataFrame ini mencakup kolom-kolom seperti id (ID SMS unik), user_id (ID pengguna), dan message_date (tanggal SMS).\n",
    "Sampel data menunjukkan bahwa tidak ada masalah yang mencolok, dan tanggal SMS direpresentasikan dalam format object. Tipe data yang benar telah diterapkan untuk masing-masing kolom, kecuali kolom message_date sebaiknya kita ubah ke type data datetime .\n",
    "\n"
   ]
  },
  {
   "cell_type": "markdown",
   "metadata": {},
   "source": [
    "### Memperbaiki Data"
   ]
  },
  {
   "cell_type": "code",
   "execution_count": 20,
   "metadata": {},
   "outputs": [],
   "source": [
    "# Mengubah tipe data kolom 'message_date' menjadi datetime untuk memastikan urutan yang benar dalam pengelompokan\n",
    "messages_df['message_date'] = pd.to_datetime(messages_df['message_date'], format='%Y-%m-%d')"
   ]
  },
  {
   "cell_type": "markdown",
   "metadata": {},
   "source": [
    "### Memperkaya Kualitas Data"
   ]
  },
  {
   "cell_type": "code",
   "execution_count": 21,
   "metadata": {},
   "outputs": [],
   "source": [
    "# Ekstrak bulan dan tahun dari kolom 'message_date'\n",
    "messages_df['month_year'] = messages_df['message_date'].dt.to_period('M')"
   ]
  },
  {
   "cell_type": "code",
   "execution_count": 22,
   "metadata": {},
   "outputs": [
    {
     "name": "stdout",
     "output_type": "stream",
     "text": [
      "<class 'pandas.core.frame.DataFrame'>\n",
      "RangeIndex: 76051 entries, 0 to 76050\n",
      "Data columns (total 4 columns):\n",
      " #   Column        Non-Null Count  Dtype         \n",
      "---  ------        --------------  -----         \n",
      " 0   id            76051 non-null  object        \n",
      " 1   user_id       76051 non-null  int64         \n",
      " 2   message_date  76051 non-null  datetime64[ns]\n",
      " 3   month_year    76051 non-null  period[M]     \n",
      "dtypes: datetime64[ns](1), int64(1), object(1), period[M](1)\n",
      "memory usage: 2.3+ MB\n"
     ]
    }
   ],
   "source": [
    "messages_df.info()"
   ]
  },
  {
   "cell_type": "code",
   "execution_count": 23,
   "metadata": {},
   "outputs": [
    {
     "data": {
      "text/html": [
       "<div>\n",
       "<style scoped>\n",
       "    .dataframe tbody tr th:only-of-type {\n",
       "        vertical-align: middle;\n",
       "    }\n",
       "\n",
       "    .dataframe tbody tr th {\n",
       "        vertical-align: top;\n",
       "    }\n",
       "\n",
       "    .dataframe thead th {\n",
       "        text-align: right;\n",
       "    }\n",
       "</style>\n",
       "<table border=\"1\" class=\"dataframe\">\n",
       "  <thead>\n",
       "    <tr style=\"text-align: right;\">\n",
       "      <th></th>\n",
       "      <th>id</th>\n",
       "      <th>user_id</th>\n",
       "      <th>message_date</th>\n",
       "      <th>month_year</th>\n",
       "    </tr>\n",
       "  </thead>\n",
       "  <tbody>\n",
       "    <tr>\n",
       "      <th>49396</th>\n",
       "      <td>1328_354</td>\n",
       "      <td>1328</td>\n",
       "      <td>2018-06-21</td>\n",
       "      <td>2018-06</td>\n",
       "    </tr>\n",
       "    <tr>\n",
       "      <th>46902</th>\n",
       "      <td>1320_146</td>\n",
       "      <td>1320</td>\n",
       "      <td>2018-10-27</td>\n",
       "      <td>2018-10</td>\n",
       "    </tr>\n",
       "    <tr>\n",
       "      <th>7542</th>\n",
       "      <td>1059_425</td>\n",
       "      <td>1059</td>\n",
       "      <td>2018-08-31</td>\n",
       "      <td>2018-08</td>\n",
       "    </tr>\n",
       "    <tr>\n",
       "      <th>39873</th>\n",
       "      <td>1258_320</td>\n",
       "      <td>1258</td>\n",
       "      <td>2018-09-19</td>\n",
       "      <td>2018-09</td>\n",
       "    </tr>\n",
       "    <tr>\n",
       "      <th>17531</th>\n",
       "      <td>1114_520</td>\n",
       "      <td>1114</td>\n",
       "      <td>2018-11-05</td>\n",
       "      <td>2018-11</td>\n",
       "    </tr>\n",
       "  </tbody>\n",
       "</table>\n",
       "</div>"
      ],
      "text/plain": [
       "             id  user_id message_date month_year\n",
       "49396  1328_354     1328   2018-06-21    2018-06\n",
       "46902  1320_146     1320   2018-10-27    2018-10\n",
       "7542   1059_425     1059   2018-08-31    2018-08\n",
       "39873  1258_320     1258   2018-09-19    2018-09\n",
       "17531  1114_520     1114   2018-11-05    2018-11"
      ]
     },
     "execution_count": 23,
     "metadata": {},
     "output_type": "execute_result"
    }
   ],
   "source": [
    "messages_df.sample(5)"
   ]
  },
  {
   "cell_type": "markdown",
   "metadata": {},
   "source": [
    "## Internet"
   ]
  },
  {
   "cell_type": "code",
   "execution_count": 24,
   "metadata": {
    "scrolled": true
   },
   "outputs": [
    {
     "name": "stdout",
     "output_type": "stream",
     "text": [
      "<class 'pandas.core.frame.DataFrame'>\n",
      "RangeIndex: 104825 entries, 0 to 104824\n",
      "Data columns (total 4 columns):\n",
      " #   Column        Non-Null Count   Dtype  \n",
      "---  ------        --------------   -----  \n",
      " 0   id            104825 non-null  object \n",
      " 1   user_id       104825 non-null  int64  \n",
      " 2   session_date  104825 non-null  object \n",
      " 3   mb_used       104825 non-null  float64\n",
      "dtypes: float64(1), int64(1), object(2)\n",
      "memory usage: 3.2+ MB\n"
     ]
    }
   ],
   "source": [
    "# Tampilkan informasi/rangkuman umum tentang DataFrame internet\n",
    "internet_df.info()"
   ]
  },
  {
   "cell_type": "code",
   "execution_count": 25,
   "metadata": {},
   "outputs": [
    {
     "data": {
      "text/html": [
       "<div>\n",
       "<style scoped>\n",
       "    .dataframe tbody tr th:only-of-type {\n",
       "        vertical-align: middle;\n",
       "    }\n",
       "\n",
       "    .dataframe tbody tr th {\n",
       "        vertical-align: top;\n",
       "    }\n",
       "\n",
       "    .dataframe thead th {\n",
       "        text-align: right;\n",
       "    }\n",
       "</style>\n",
       "<table border=\"1\" class=\"dataframe\">\n",
       "  <thead>\n",
       "    <tr style=\"text-align: right;\">\n",
       "      <th></th>\n",
       "      <th>id</th>\n",
       "      <th>user_id</th>\n",
       "      <th>session_date</th>\n",
       "      <th>mb_used</th>\n",
       "    </tr>\n",
       "  </thead>\n",
       "  <tbody>\n",
       "    <tr>\n",
       "      <th>8688</th>\n",
       "      <td>1045_404</td>\n",
       "      <td>1045</td>\n",
       "      <td>2018-11-18</td>\n",
       "      <td>172.19</td>\n",
       "    </tr>\n",
       "    <tr>\n",
       "      <th>68837</th>\n",
       "      <td>1321_246</td>\n",
       "      <td>1321</td>\n",
       "      <td>2018-12-10</td>\n",
       "      <td>518.77</td>\n",
       "    </tr>\n",
       "    <tr>\n",
       "      <th>38247</th>\n",
       "      <td>1171_618</td>\n",
       "      <td>1171</td>\n",
       "      <td>2018-09-08</td>\n",
       "      <td>509.36</td>\n",
       "    </tr>\n",
       "    <tr>\n",
       "      <th>53803</th>\n",
       "      <td>1243_105</td>\n",
       "      <td>1243</td>\n",
       "      <td>2018-11-24</td>\n",
       "      <td>0.00</td>\n",
       "    </tr>\n",
       "    <tr>\n",
       "      <th>92015</th>\n",
       "      <td>1427_20</td>\n",
       "      <td>1427</td>\n",
       "      <td>2018-12-17</td>\n",
       "      <td>230.45</td>\n",
       "    </tr>\n",
       "  </tbody>\n",
       "</table>\n",
       "</div>"
      ],
      "text/plain": [
       "             id  user_id session_date  mb_used\n",
       "8688   1045_404     1045   2018-11-18   172.19\n",
       "68837  1321_246     1321   2018-12-10   518.77\n",
       "38247  1171_618     1171   2018-09-08   509.36\n",
       "53803  1243_105     1243   2018-11-24     0.00\n",
       "92015   1427_20     1427   2018-12-17   230.45"
      ]
     },
     "execution_count": 25,
     "metadata": {},
     "output_type": "execute_result"
    }
   ],
   "source": [
    "# Tampilkan sampel data untuk traffic internet\n",
    "internet_df.sample(5)"
   ]
  },
  {
   "cell_type": "markdown",
   "metadata": {},
   "source": [
    "Terdapat 104,825 entri dalam DataFrame internet_df.\n",
    "DataFrame ini mencakup kolom-kolom seperti id (ID sesi web unik), user_id (ID pengguna), session_date (tanggal sesi web), dan mb_used (volume data yang dihabiskan selama sesi dalam megabyte).\n",
    "Tipe data yang benar telah diterapkan untuk masing-masing kolom, kecuali Tipe data pada kolom session_date sebaiknya diubah menjadi tipe data datetime.\n",
    "Sampel data menunjukkan bahwa tidak ada masalah yang mencolok.\n",
    "\n"
   ]
  },
  {
   "cell_type": "markdown",
   "metadata": {},
   "source": [
    "### Memperbaiki Data"
   ]
  },
  {
   "cell_type": "code",
   "execution_count": 26,
   "metadata": {},
   "outputs": [],
   "source": [
    "# Mengubah tipe data kolom 'session_date' menjadi datetime untuk memastikan urutan yang benar dalam pengelompokan\n",
    "internet_df['session_date'] = pd.to_datetime(internet_df['session_date'], format='%Y-%m-%d')"
   ]
  },
  {
   "cell_type": "markdown",
   "metadata": {},
   "source": [
    "### Memperkaya Kualitas Data"
   ]
  },
  {
   "cell_type": "code",
   "execution_count": 27,
   "metadata": {},
   "outputs": [],
   "source": [
    "# Ekstrak bulan dan tahun dari kolom 'session_date'\n",
    "internet_df['month_year'] = internet_df['session_date'].dt.to_period('M')"
   ]
  },
  {
   "cell_type": "code",
   "execution_count": 28,
   "metadata": {},
   "outputs": [
    {
     "name": "stdout",
     "output_type": "stream",
     "text": [
      "<class 'pandas.core.frame.DataFrame'>\n",
      "RangeIndex: 104825 entries, 0 to 104824\n",
      "Data columns (total 5 columns):\n",
      " #   Column        Non-Null Count   Dtype         \n",
      "---  ------        --------------   -----         \n",
      " 0   id            104825 non-null  object        \n",
      " 1   user_id       104825 non-null  int64         \n",
      " 2   session_date  104825 non-null  datetime64[ns]\n",
      " 3   mb_used       104825 non-null  float64       \n",
      " 4   month_year    104825 non-null  period[M]     \n",
      "dtypes: datetime64[ns](1), float64(1), int64(1), object(1), period[M](1)\n",
      "memory usage: 4.0+ MB\n"
     ]
    }
   ],
   "source": [
    "internet_df.info()"
   ]
  },
  {
   "cell_type": "code",
   "execution_count": 29,
   "metadata": {},
   "outputs": [
    {
     "data": {
      "text/html": [
       "<div>\n",
       "<style scoped>\n",
       "    .dataframe tbody tr th:only-of-type {\n",
       "        vertical-align: middle;\n",
       "    }\n",
       "\n",
       "    .dataframe tbody tr th {\n",
       "        vertical-align: top;\n",
       "    }\n",
       "\n",
       "    .dataframe thead th {\n",
       "        text-align: right;\n",
       "    }\n",
       "</style>\n",
       "<table border=\"1\" class=\"dataframe\">\n",
       "  <thead>\n",
       "    <tr style=\"text-align: right;\">\n",
       "      <th></th>\n",
       "      <th>id</th>\n",
       "      <th>user_id</th>\n",
       "      <th>session_date</th>\n",
       "      <th>mb_used</th>\n",
       "      <th>month_year</th>\n",
       "    </tr>\n",
       "  </thead>\n",
       "  <tbody>\n",
       "    <tr>\n",
       "      <th>97817</th>\n",
       "      <td>1460_516</td>\n",
       "      <td>1460</td>\n",
       "      <td>2018-08-23</td>\n",
       "      <td>1010.21</td>\n",
       "      <td>2018-08</td>\n",
       "    </tr>\n",
       "    <tr>\n",
       "      <th>13418</th>\n",
       "      <td>1062_388</td>\n",
       "      <td>1062</td>\n",
       "      <td>2018-03-17</td>\n",
       "      <td>607.66</td>\n",
       "      <td>2018-03</td>\n",
       "    </tr>\n",
       "    <tr>\n",
       "      <th>43321</th>\n",
       "      <td>1193_117</td>\n",
       "      <td>1193</td>\n",
       "      <td>2018-10-11</td>\n",
       "      <td>626.46</td>\n",
       "      <td>2018-10</td>\n",
       "    </tr>\n",
       "    <tr>\n",
       "      <th>93788</th>\n",
       "      <td>1438_30</td>\n",
       "      <td>1438</td>\n",
       "      <td>2018-10-08</td>\n",
       "      <td>11.16</td>\n",
       "      <td>2018-10</td>\n",
       "    </tr>\n",
       "    <tr>\n",
       "      <th>94142</th>\n",
       "      <td>1439_195</td>\n",
       "      <td>1439</td>\n",
       "      <td>2018-12-25</td>\n",
       "      <td>925.18</td>\n",
       "      <td>2018-12</td>\n",
       "    </tr>\n",
       "  </tbody>\n",
       "</table>\n",
       "</div>"
      ],
      "text/plain": [
       "             id  user_id session_date  mb_used month_year\n",
       "97817  1460_516     1460   2018-08-23  1010.21    2018-08\n",
       "13418  1062_388     1062   2018-03-17   607.66    2018-03\n",
       "43321  1193_117     1193   2018-10-11   626.46    2018-10\n",
       "93788   1438_30     1438   2018-10-08    11.16    2018-10\n",
       "94142  1439_195     1439   2018-12-25   925.18    2018-12"
      ]
     },
     "execution_count": 29,
     "metadata": {},
     "output_type": "execute_result"
    }
   ],
   "source": [
    "internet_df.sample(5)"
   ]
  },
  {
   "cell_type": "markdown",
   "metadata": {},
   "source": [
    "## Mempelajari Syarat dan Kondisi Terkait Paket Prabayar"
   ]
  },
  {
   "cell_type": "code",
   "execution_count": 30,
   "metadata": {
    "scrolled": true
   },
   "outputs": [
    {
     "name": "stdout",
     "output_type": "stream",
     "text": [
      "   messages_included  mb_per_month_included  minutes_included  \\\n",
      "0                 50                  15360               500   \n",
      "1               1000                  30720              3000   \n",
      "\n",
      "   usd_monthly_pay  usd_per_gb  usd_per_message  usd_per_minute plan_name  \n",
      "0               20          10             0.03            0.03      surf  \n",
      "1               70           7             0.01            0.01  ultimate  \n"
     ]
    }
   ],
   "source": [
    "# Tampilkan persyaratan paket prabayar dan pastikan Anda memahaminya\n",
    "print(plans_df)"
   ]
  },
  {
   "cell_type": "markdown",
   "metadata": {},
   "source": [
    "A. Surf :\n",
    "\n",
    "1. messages_included: 50 SMS\n",
    "2. mb_per_month_included: 15,360 MB (15 GB) data per bulan\n",
    "3. minutes_included: 500 menit panggilan per bulan\n",
    "4. usd_monthly_pay: Biaya bulanan 20 Dolar\n",
    "5. usd_per_gb: Biaya tambahan 10 Dolar per gigabyte jika melebihi alokasi paket\n",
    "6. usd_per_message: Biaya tambahan 0.03 Dolar per SMS jika melebihi alokasi paket\n",
    "7. usd_per_minute: Biaya tambahan 0.03 Dolar per menit panggilan jika melebihi alokasi paket\n",
    "\n",
    "\n",
    "B. Ultimate :\n",
    "\n",
    "1. messages_included: 1,000 SMS\n",
    "2. mb_per_month_included: 30,720 MB (30 GB) data per bulan\n",
    "3. minutes_included: 3,000 menit panggilan per bulan\n",
    "4. usd_monthly_pay: Biaya bulanan 70 Dolar\n",
    "5. usd_per_gb: Biaya tambahan 7 Dolar per gigabyte jika melebihi alokasi paket\n",
    "6. usd_per_message: Biaya tambahan 0.01 Dolar per SMS jika melebihi alokasi paket\n",
    "7. usd_per_minute: Biaya tambahan 0.01 Dolar per menit panggilan jika melebihi alokasi paket\n",
    "\n",
    "\n",
    "Analisis Singkat:\n",
    "Paket Surf memiliki alokasi lebih rendah untuk pesan SMS, volume data, dan menit panggilan dibandingkan dengan Ultimate Package.\n",
    "Ultimate Package menawarkan alokasi yang jauh lebih besar untuk semua kategori, namun biaya bulanannya juga lebih tinggi.\n",
    "Biaya tambahan dikenakan jika pengguna melebihi alokasi paket untuk SMS, data, atau menit panggilan, dengan tarif yang berbeda untuk masing-masing."
   ]
  },
  {
   "cell_type": "markdown",
   "metadata": {},
   "source": [
    "## Mengagregasi Data per Pengguna\n",
    "\n"
   ]
  },
  {
   "cell_type": "code",
   "execution_count": 31,
   "metadata": {},
   "outputs": [
    {
     "name": "stdout",
     "output_type": "stream",
     "text": [
      "      user_id month_year  total_calls\n",
      "0        1000    2018-12           16\n",
      "1        1001    2018-08           27\n",
      "2        1001    2018-09           49\n",
      "3        1001    2018-10           65\n",
      "4        1001    2018-11           64\n",
      "...       ...        ...          ...\n",
      "2253     1498    2018-12           39\n",
      "2254     1499    2018-09           41\n",
      "2255     1499    2018-10           53\n",
      "2256     1499    2018-11           45\n",
      "2257     1499    2018-12           65\n",
      "\n",
      "[2258 rows x 3 columns]\n"
     ]
    }
   ],
   "source": [
    "# Hitung jumlah panggilan yang dilakukan oleh setiap pengguna per bulan. Simpan hasilnya.\n",
    "user_calls_count = calls_df.groupby(['user_id', 'month_year']).agg({'id': 'count'}).reset_index()\n",
    "\n",
    "# Memberikan nama yang lebih deskriptif pada kolom hasil\n",
    "user_calls_count.columns = ['user_id', 'month_year', 'total_calls']\n",
    "\n",
    "print(user_calls_count)\n"
   ]
  },
  {
   "cell_type": "code",
   "execution_count": 32,
   "metadata": {},
   "outputs": [
    {
     "name": "stdout",
     "output_type": "stream",
     "text": [
      "      user_id month_year  total_calls  total_minutes\n",
      "0        1000    2018-12           16         116.83\n",
      "1        1001    2018-08           27         171.14\n",
      "2        1001    2018-09           49         297.69\n",
      "3        1001    2018-10           65         374.11\n",
      "4        1001    2018-11           64         404.59\n",
      "...       ...        ...          ...            ...\n",
      "2253     1498    2018-12           39         324.77\n",
      "2254     1499    2018-09           41         330.37\n",
      "2255     1499    2018-10           53         363.28\n",
      "2256     1499    2018-11           45         288.56\n",
      "2257     1499    2018-12           65         468.10\n",
      "\n",
      "[2258 rows x 4 columns]\n"
     ]
    }
   ],
   "source": [
    "# Hitung jumlah menit yang dihabiskan oleh setiap pengguna untuk melakukan panggilan per bulan. Simpan hasilnya.\n",
    "user_calls_duration = calls_df.groupby(['user_id', 'month_year']).agg({'id': 'count', 'duration': 'sum'}).reset_index()\n",
    "\n",
    "# Memberikan nama yang lebih deskriptif pada kolom hasil\n",
    "user_calls_duration.columns = ['user_id', 'month_year', 'total_calls', 'total_minutes']\n",
    "\n",
    "print(user_calls_duration)"
   ]
  },
  {
   "cell_type": "code",
   "execution_count": 33,
   "metadata": {},
   "outputs": [
    {
     "name": "stdout",
     "output_type": "stream",
     "text": [
      "      user_id month_year  total_messages\n",
      "0        1000    2018-12              11\n",
      "1        1001    2018-08              30\n",
      "2        1001    2018-09              44\n",
      "3        1001    2018-10              53\n",
      "4        1001    2018-11              36\n",
      "...       ...        ...             ...\n",
      "1801     1496    2018-09              21\n",
      "1802     1496    2018-10              18\n",
      "1803     1496    2018-11              13\n",
      "1804     1496    2018-12              11\n",
      "1805     1497    2018-12              50\n",
      "\n",
      "[1806 rows x 3 columns]\n"
     ]
    }
   ],
   "source": [
    "# Hitung jumlah SMS yang dikirim oleh setiap pengguna per bulan. Simpan hasilnya.\n",
    "user_messages_monthly = messages_df.groupby(['user_id', 'month_year']).agg({'id': 'count'}).reset_index()\n",
    "\n",
    "# Memberikan nama yang lebih deskriptif pada kolom hasil\n",
    "user_messages_monthly.columns = ['user_id', 'month_year', 'total_messages']\n",
    "\n",
    "print(user_messages_monthly)"
   ]
  },
  {
   "cell_type": "code",
   "execution_count": 34,
   "metadata": {},
   "outputs": [
    {
     "name": "stdout",
     "output_type": "stream",
     "text": [
      "      user_id month_year  total_sessions  total_mb_used\n",
      "0        1000    2018-12               5        1901.47\n",
      "1        1001    2018-08              25        6919.15\n",
      "2        1001    2018-09              53       13314.82\n",
      "3        1001    2018-10              56       22330.49\n",
      "4        1001    2018-11              51       18504.30\n",
      "...       ...        ...             ...            ...\n",
      "2272     1498    2018-12              65       23137.69\n",
      "2273     1499    2018-09              45       12984.76\n",
      "2274     1499    2018-10              61       19492.43\n",
      "2275     1499    2018-11              49       16813.83\n",
      "2276     1499    2018-12              65       22059.21\n",
      "\n",
      "[2277 rows x 4 columns]\n"
     ]
    }
   ],
   "source": [
    "# Hitung volume traffic internet yang digunakan oleh setiap pengguna per bulan. Simpan hasilnya.\n",
    "user_internet_monthly = internet_df.groupby(['user_id', 'month_year']).agg({'id': 'count', 'mb_used': 'sum'}).reset_index()\n",
    "\n",
    "# Memberikan nama yang lebih deskriptif pada kolom hasil\n",
    "user_internet_monthly.columns = ['user_id', 'month_year', 'total_sessions', 'total_mb_used']\n",
    "\n",
    "print(user_internet_monthly)"
   ]
  },
  {
   "cell_type": "code",
   "execution_count": 35,
   "metadata": {},
   "outputs": [
    {
     "data": {
      "text/html": [
       "<div>\n",
       "<style scoped>\n",
       "    .dataframe tbody tr th:only-of-type {\n",
       "        vertical-align: middle;\n",
       "    }\n",
       "\n",
       "    .dataframe tbody tr th {\n",
       "        vertical-align: top;\n",
       "    }\n",
       "\n",
       "    .dataframe thead th {\n",
       "        text-align: right;\n",
       "    }\n",
       "</style>\n",
       "<table border=\"1\" class=\"dataframe\">\n",
       "  <thead>\n",
       "    <tr style=\"text-align: right;\">\n",
       "      <th></th>\n",
       "      <th>user_id</th>\n",
       "      <th>month_year</th>\n",
       "      <th>total_calls_x</th>\n",
       "      <th>total_calls_y</th>\n",
       "      <th>total_minutes</th>\n",
       "      <th>total_messages</th>\n",
       "      <th>total_sessions</th>\n",
       "      <th>total_mb_used</th>\n",
       "      <th>city</th>\n",
       "    </tr>\n",
       "  </thead>\n",
       "  <tbody>\n",
       "    <tr>\n",
       "      <th>214</th>\n",
       "      <td>1051</td>\n",
       "      <td>2018-12</td>\n",
       "      <td>29.0</td>\n",
       "      <td>29.0</td>\n",
       "      <td>164.92</td>\n",
       "      <td>60.0</td>\n",
       "      <td>30.0</td>\n",
       "      <td>10369.73</td>\n",
       "      <td>San Diego-Chula Vista-Carlsbad, CA MSA</td>\n",
       "    </tr>\n",
       "    <tr>\n",
       "      <th>2282</th>\n",
       "      <td>1194</td>\n",
       "      <td>2018-12</td>\n",
       "      <td>NaN</td>\n",
       "      <td>NaN</td>\n",
       "      <td>NaN</td>\n",
       "      <td>56.0</td>\n",
       "      <td>63.0</td>\n",
       "      <td>31088.49</td>\n",
       "      <td>San Jose-Sunnyvale-Santa Clara, CA MSA</td>\n",
       "    </tr>\n",
       "    <tr>\n",
       "      <th>1664</th>\n",
       "      <td>1365</td>\n",
       "      <td>2018-07</td>\n",
       "      <td>155.0</td>\n",
       "      <td>155.0</td>\n",
       "      <td>1015.97</td>\n",
       "      <td>52.0</td>\n",
       "      <td>11.0</td>\n",
       "      <td>5979.39</td>\n",
       "      <td>Grand Rapids-Kentwood, MI MSA</td>\n",
       "    </tr>\n",
       "    <tr>\n",
       "      <th>1347</th>\n",
       "      <td>1296</td>\n",
       "      <td>2018-11</td>\n",
       "      <td>39.0</td>\n",
       "      <td>39.0</td>\n",
       "      <td>279.04</td>\n",
       "      <td>15.0</td>\n",
       "      <td>62.0</td>\n",
       "      <td>20186.52</td>\n",
       "      <td>Miami-Fort Lauderdale-West Palm Beach, FL MSA</td>\n",
       "    </tr>\n",
       "    <tr>\n",
       "      <th>402</th>\n",
       "      <td>1084</td>\n",
       "      <td>2018-11</td>\n",
       "      <td>123.0</td>\n",
       "      <td>123.0</td>\n",
       "      <td>844.98</td>\n",
       "      <td>93.0</td>\n",
       "      <td>66.0</td>\n",
       "      <td>20587.48</td>\n",
       "      <td>Miami-Fort Lauderdale-West Palm Beach, FL MSA</td>\n",
       "    </tr>\n",
       "  </tbody>\n",
       "</table>\n",
       "</div>"
      ],
      "text/plain": [
       "      user_id month_year  total_calls_x  total_calls_y  total_minutes  \\\n",
       "214      1051    2018-12           29.0           29.0         164.92   \n",
       "2282     1194    2018-12            NaN            NaN            NaN   \n",
       "1664     1365    2018-07          155.0          155.0        1015.97   \n",
       "1347     1296    2018-11           39.0           39.0         279.04   \n",
       "402      1084    2018-11          123.0          123.0         844.98   \n",
       "\n",
       "      total_messages  total_sessions  total_mb_used  \\\n",
       "214             60.0            30.0       10369.73   \n",
       "2282            56.0            63.0       31088.49   \n",
       "1664            52.0            11.0        5979.39   \n",
       "1347            15.0            62.0       20186.52   \n",
       "402             93.0            66.0       20587.48   \n",
       "\n",
       "                                               city  \n",
       "214          San Diego-Chula Vista-Carlsbad, CA MSA  \n",
       "2282         San Jose-Sunnyvale-Santa Clara, CA MSA  \n",
       "1664                  Grand Rapids-Kentwood, MI MSA  \n",
       "1347  Miami-Fort Lauderdale-West Palm Beach, FL MSA  \n",
       "402   Miami-Fort Lauderdale-West Palm Beach, FL MSA  "
      ]
     },
     "execution_count": 35,
     "metadata": {},
     "output_type": "execute_result"
    }
   ],
   "source": [
    "# Gabungkan data panggilan, menit, SMS, dan internet berdasarkan user_id dan month (bulan)\n",
    "user_monthly_data = pd.merge(user_calls_count, user_calls_duration, on=['user_id', 'month_year'], how='outer')\n",
    "user_monthly_data = pd.merge(user_monthly_data, user_messages_monthly, on=['user_id', 'month_year'], how='outer')\n",
    "user_monthly_data = pd.merge(user_monthly_data, user_internet_monthly, on=['user_id', 'month_year'], how='outer')\n",
    "\n",
    "# Gabungkan user_monthly_data dan user_df berdasarkan user_id\n",
    "user_monthly_data = pd.merge(user_monthly_data, users_df[['user_id', 'city']], on='user_id', how='left')\n",
    "\n",
    "# Periksa hasilnya\n",
    "user_monthly_data.sample(5)\n"
   ]
  },
  {
   "cell_type": "code",
   "execution_count": 36,
   "metadata": {
    "scrolled": true
   },
   "outputs": [
    {
     "name": "stdout",
     "output_type": "stream",
     "text": [
      "      user_id month_year  total_calls_x  total_calls_y  total_minutes  \\\n",
      "0        1000    2018-12           16.0           16.0         116.83   \n",
      "1        1001    2018-08           27.0           27.0         171.14   \n",
      "2        1001    2018-09           49.0           49.0         297.69   \n",
      "3        1001    2018-10           65.0           65.0         374.11   \n",
      "4        1001    2018-11           64.0           64.0         404.59   \n",
      "...       ...        ...            ...            ...            ...   \n",
      "2288     1349    2018-12            NaN            NaN            NaN   \n",
      "2289     1361    2018-05            NaN            NaN            NaN   \n",
      "2290     1482    2018-10            NaN            NaN            NaN   \n",
      "2291     1108    2018-12            NaN            NaN            NaN   \n",
      "2292     1311    2018-06            NaN            NaN            NaN   \n",
      "\n",
      "      total_messages  total_sessions  total_mb_used  \\\n",
      "0               11.0             5.0        1901.47   \n",
      "1               30.0            25.0        6919.15   \n",
      "2               44.0            53.0       13314.82   \n",
      "3               53.0            56.0       22330.49   \n",
      "4               36.0            51.0       18504.30   \n",
      "...              ...             ...            ...   \n",
      "2288            61.0            27.0       13039.91   \n",
      "2289             2.0             9.0        1519.69   \n",
      "2290             2.0             NaN            NaN   \n",
      "2291             NaN             2.0         233.17   \n",
      "2292             NaN             9.0        1498.83   \n",
      "\n",
      "                                           city      plan  \n",
      "0         Atlanta-Sandy Springs-Roswell, GA MSA  ultimate  \n",
      "1               Seattle-Tacoma-Bellevue, WA MSA      surf  \n",
      "2               Seattle-Tacoma-Bellevue, WA MSA      surf  \n",
      "3               Seattle-Tacoma-Bellevue, WA MSA      surf  \n",
      "4               Seattle-Tacoma-Bellevue, WA MSA      surf  \n",
      "...                                         ...       ...  \n",
      "2288         Boston-Cambridge-Newton, MA-NH MSA      surf  \n",
      "2289                  Birmingham-Hoover, AL MSA      surf  \n",
      "2290  New York-Newark-Jersey City, NY-NJ-PA MSA  ultimate  \n",
      "2291                     Salt Lake City, UT MSA  ultimate  \n",
      "2292                      Memphis, TN-MS-AR MSA  ultimate  \n",
      "\n",
      "[2293 rows x 10 columns]\n"
     ]
    }
   ],
   "source": [
    "# Tambahkan informasi paket prabayarnya\n",
    "user_monthly_data = pd.merge(user_monthly_data, users_df[['user_id', 'plan']], on='user_id', how='left')\n",
    "print(user_monthly_data)"
   ]
  },
  {
   "cell_type": "code",
   "execution_count": 37,
   "metadata": {},
   "outputs": [
    {
     "name": "stdout",
     "output_type": "stream",
     "text": [
      "      user_id month_year  total_calls_x  total_calls_y  total_minutes  \\\n",
      "0        1000    2018-12           16.0           16.0         116.83   \n",
      "1        1001    2018-08           27.0           27.0         171.14   \n",
      "2        1001    2018-09           49.0           49.0         297.69   \n",
      "3        1001    2018-10           65.0           65.0         374.11   \n",
      "4        1001    2018-11           64.0           64.0         404.59   \n",
      "...       ...        ...            ...            ...            ...   \n",
      "2288     1349    2018-12            NaN            NaN            NaN   \n",
      "2289     1361    2018-05            NaN            NaN            NaN   \n",
      "2290     1482    2018-10            NaN            NaN            NaN   \n",
      "2291     1108    2018-12            NaN            NaN            NaN   \n",
      "2292     1311    2018-06            NaN            NaN            NaN   \n",
      "\n",
      "      total_messages  total_sessions  total_mb_used  \\\n",
      "0               11.0             5.0        1901.47   \n",
      "1               30.0            25.0        6919.15   \n",
      "2               44.0            53.0       13314.82   \n",
      "3               53.0            56.0       22330.49   \n",
      "4               36.0            51.0       18504.30   \n",
      "...              ...             ...            ...   \n",
      "2288            61.0            27.0       13039.91   \n",
      "2289             2.0             9.0        1519.69   \n",
      "2290             2.0             NaN            NaN   \n",
      "2291             NaN             2.0         233.17   \n",
      "2292             NaN             9.0        1498.83   \n",
      "\n",
      "                                           city      plan  total_calls  \n",
      "0         Atlanta-Sandy Springs-Roswell, GA MSA  ultimate         16.0  \n",
      "1               Seattle-Tacoma-Bellevue, WA MSA      surf         27.0  \n",
      "2               Seattle-Tacoma-Bellevue, WA MSA      surf         49.0  \n",
      "3               Seattle-Tacoma-Bellevue, WA MSA      surf         65.0  \n",
      "4               Seattle-Tacoma-Bellevue, WA MSA      surf         64.0  \n",
      "...                                         ...       ...          ...  \n",
      "2288         Boston-Cambridge-Newton, MA-NH MSA      surf          NaN  \n",
      "2289                  Birmingham-Hoover, AL MSA      surf          NaN  \n",
      "2290  New York-Newark-Jersey City, NY-NJ-PA MSA  ultimate          NaN  \n",
      "2291                     Salt Lake City, UT MSA  ultimate          NaN  \n",
      "2292                      Memphis, TN-MS-AR MSA  ultimate          NaN  \n",
      "\n",
      "[2293 rows x 11 columns]\n"
     ]
    }
   ],
   "source": [
    "# Hitung total panggilan per bulan\n",
    "user_monthly_data['total_calls'] = calls_df.groupby(['user_id', 'month_year'])['duration'].count().reset_index()['duration']\n",
    "print(user_monthly_data)"
   ]
  },
  {
   "cell_type": "code",
   "execution_count": 38,
   "metadata": {},
   "outputs": [
    {
     "data": {
      "text/html": [
       "<div>\n",
       "<style scoped>\n",
       "    .dataframe tbody tr th:only-of-type {\n",
       "        vertical-align: middle;\n",
       "    }\n",
       "\n",
       "    .dataframe tbody tr th {\n",
       "        vertical-align: top;\n",
       "    }\n",
       "\n",
       "    .dataframe thead th {\n",
       "        text-align: right;\n",
       "    }\n",
       "</style>\n",
       "<table border=\"1\" class=\"dataframe\">\n",
       "  <thead>\n",
       "    <tr style=\"text-align: right;\">\n",
       "      <th></th>\n",
       "      <th>user_id</th>\n",
       "      <th>month_year</th>\n",
       "      <th>total_calls_x</th>\n",
       "      <th>total_calls_y</th>\n",
       "      <th>total_minutes</th>\n",
       "      <th>total_messages</th>\n",
       "      <th>total_sessions</th>\n",
       "      <th>total_mb_used</th>\n",
       "      <th>city</th>\n",
       "      <th>plan</th>\n",
       "      <th>total_calls</th>\n",
       "      <th>monthly_revenue</th>\n",
       "    </tr>\n",
       "  </thead>\n",
       "  <tbody>\n",
       "    <tr>\n",
       "      <th>913</th>\n",
       "      <td>1196</td>\n",
       "      <td>2018-01</td>\n",
       "      <td>42.0</td>\n",
       "      <td>42.0</td>\n",
       "      <td>272.56</td>\n",
       "      <td>23.0</td>\n",
       "      <td>15.0</td>\n",
       "      <td>8908.61</td>\n",
       "      <td>Los Angeles-Long Beach-Anaheim, CA MSA</td>\n",
       "      <td>ultimate</td>\n",
       "      <td>42.0</td>\n",
       "      <td>62220.27</td>\n",
       "    </tr>\n",
       "    <tr>\n",
       "      <th>2082</th>\n",
       "      <td>1460</td>\n",
       "      <td>2018-05</td>\n",
       "      <td>8.0</td>\n",
       "      <td>8.0</td>\n",
       "      <td>49.43</td>\n",
       "      <td>5.0</td>\n",
       "      <td>5.0</td>\n",
       "      <td>2292.12</td>\n",
       "      <td>Fresno, CA MSA</td>\n",
       "      <td>ultimate</td>\n",
       "      <td>8.0</td>\n",
       "      <td>15904.84</td>\n",
       "    </tr>\n",
       "    <tr>\n",
       "      <th>2022</th>\n",
       "      <td>1443</td>\n",
       "      <td>2018-11</td>\n",
       "      <td>23.0</td>\n",
       "      <td>23.0</td>\n",
       "      <td>176.93</td>\n",
       "      <td>5.0</td>\n",
       "      <td>36.0</td>\n",
       "      <td>12661.38</td>\n",
       "      <td>Atlanta-Sandy Springs-Roswell, GA MSA</td>\n",
       "      <td>surf</td>\n",
       "      <td>23.0</td>\n",
       "      <td>126483.80</td>\n",
       "    </tr>\n",
       "    <tr>\n",
       "      <th>1401</th>\n",
       "      <td>1312</td>\n",
       "      <td>2018-08</td>\n",
       "      <td>61.0</td>\n",
       "      <td>61.0</td>\n",
       "      <td>510.36</td>\n",
       "      <td>38.0</td>\n",
       "      <td>76.0</td>\n",
       "      <td>25569.29</td>\n",
       "      <td>Fresno, CA MSA</td>\n",
       "      <td>surf</td>\n",
       "      <td>61.0</td>\n",
       "      <td>255562.90</td>\n",
       "    </tr>\n",
       "    <tr>\n",
       "      <th>1206</th>\n",
       "      <td>1259</td>\n",
       "      <td>2018-12</td>\n",
       "      <td>24.0</td>\n",
       "      <td>24.0</td>\n",
       "      <td>177.98</td>\n",
       "      <td>36.0</td>\n",
       "      <td>3.0</td>\n",
       "      <td>1078.27</td>\n",
       "      <td>Philadelphia-Camden-Wilmington, PA-NJ-DE-MD MSA</td>\n",
       "      <td>surf</td>\n",
       "      <td>24.0</td>\n",
       "      <td>10652.70</td>\n",
       "    </tr>\n",
       "  </tbody>\n",
       "</table>\n",
       "</div>"
      ],
      "text/plain": [
       "      user_id month_year  total_calls_x  total_calls_y  total_minutes  \\\n",
       "913      1196    2018-01           42.0           42.0         272.56   \n",
       "2082     1460    2018-05            8.0            8.0          49.43   \n",
       "2022     1443    2018-11           23.0           23.0         176.93   \n",
       "1401     1312    2018-08           61.0           61.0         510.36   \n",
       "1206     1259    2018-12           24.0           24.0         177.98   \n",
       "\n",
       "      total_messages  total_sessions  total_mb_used  \\\n",
       "913             23.0            15.0        8908.61   \n",
       "2082             5.0             5.0        2292.12   \n",
       "2022             5.0            36.0       12661.38   \n",
       "1401            38.0            76.0       25569.29   \n",
       "1206            36.0             3.0        1078.27   \n",
       "\n",
       "                                                 city      plan  total_calls  \\\n",
       "913            Los Angeles-Long Beach-Anaheim, CA MSA  ultimate         42.0   \n",
       "2082                                   Fresno, CA MSA  ultimate          8.0   \n",
       "2022            Atlanta-Sandy Springs-Roswell, GA MSA      surf         23.0   \n",
       "1401                                   Fresno, CA MSA      surf         61.0   \n",
       "1206  Philadelphia-Camden-Wilmington, PA-NJ-DE-MD MSA      surf         24.0   \n",
       "\n",
       "      monthly_revenue  \n",
       "913          62220.27  \n",
       "2082         15904.84  \n",
       "2022        126483.80  \n",
       "1401        255562.90  \n",
       "1206         10652.70  "
      ]
     },
     "execution_count": 38,
     "metadata": {},
     "output_type": "execute_result"
    }
   ],
   "source": [
    "# Hitung pendapatan bulanan untuk setiap pengguna\n",
    "def calculate_monthly_revenue(row):\n",
    "    plan_name = row['plan']\n",
    "    calls_over_limit = max(0, row['total_calls'] - plans_df.loc[plans_df['plan_name'] == plan_name, 'minutes_included'].values[0])\n",
    "    messages_over_limit = max(0, row['total_messages'] - plans_df.loc[plans_df['plan_name'] == plan_name, 'messages_included'].values[0])\n",
    "    internet_over_limit = max(0, row['total_mb_used'] - plans_df.loc[plans_df['plan_name'] == plan_name, 'mb_per_month_included'].values[0] / 1024)\n",
    "\n",
    "    revenue_calls = calls_over_limit * plans_df.loc[plans_df['plan_name'] == plan_name, 'usd_per_minute'].values[0]\n",
    "    revenue_messages = messages_over_limit * plans_df.loc[plans_df['plan_name'] == plan_name, 'usd_per_message'].values[0]\n",
    "    revenue_internet = internet_over_limit * plans_df.loc[plans_df['plan_name'] == plan_name, 'usd_per_gb'].values[0]\n",
    "\n",
    "    total_revenue = plans_df.loc[plans_df['plan_name'] == plan_name, 'usd_monthly_pay'].values[0] + revenue_calls + revenue_messages + revenue_internet\n",
    "    return total_revenue\n",
    "\n",
    "user_monthly_data['monthly_revenue'] = user_monthly_data.apply(calculate_monthly_revenue, axis=1)\n",
    "\n",
    "# Tampilkan sample data\n",
    "user_monthly_data.sample(5)"
   ]
  },
  {
   "cell_type": "markdown",
   "metadata": {},
   "source": [
    "## Mempelajari Perilaku Pengguna"
   ]
  },
  {
   "cell_type": "markdown",
   "metadata": {},
   "source": [
    "### Panggilan"
   ]
  },
  {
   "cell_type": "code",
   "execution_count": 39,
   "metadata": {
    "scrolled": true
   },
   "outputs": [
    {
     "data": {
      "text/plain": [
       "<AxesSubplot:title={'center':'Durasi Rata-rata Panggilan per Paket'}, xlabel='Paket Prabayar', ylabel='Durasi Rata-rata (menit)'>"
      ]
     },
     "execution_count": 39,
     "metadata": {},
     "output_type": "execute_result"
    },
    {
     "data": {
      "image/png": "[encoded data removed]",
      "text/plain": [
       "<Figure size 432x288 with 1 Axes>"
      ]
     },
     "metadata": {
      "needs_background": "light"
     },
     "output_type": "display_data"
    }
   ],
   "source": [
    "# Bandingkan durasi rata-rata panggilan setiap paket per bulannya. Buatlah sebuah diagram batang untuk memvisualisasikannya.\n",
    "calls_avg_duration = user_monthly_data.groupby('plan')['total_minutes'].mean()\n",
    "calls_avg_duration.plot(kind='bar', rot=0, xlabel='Paket Prabayar', ylabel='Durasi Rata-rata (menit)', title='Durasi Rata-rata Panggilan per Paket')"
   ]
  },
  {
   "cell_type": "markdown",
   "metadata": {},
   "source": [
    "Pada diagram batang terlihat bahwa paket Surf dan paket Ultimate memiliki durasi rata-rata panggilan yang setara. Tidak terlihat perbedaan tampilan yang mencolok."
   ]
  },
  {
   "cell_type": "code",
   "execution_count": 40,
   "metadata": {
    "scrolled": false
   },
   "outputs": [
    {
     "data": {
      "text/plain": [
       "<AxesSubplot:title={'center':'Histogram Jumlah Menit Panggilan per Paket'}, ylabel='Frequency'>"
      ]
     },
     "execution_count": 40,
     "metadata": {},
     "output_type": "execute_result"
    },
    {
     "data": {
      "image/png": "[encoded data removed]",
      "text/plain": [
       "<Figure size 432x288 with 1 Axes>"
      ]
     },
     "metadata": {
      "needs_background": "light"
     },
     "output_type": "display_data"
    }
   ],
   "source": [
    "# Bandingkan jumlah menit yang dibutuhkan pengguna tiap paket per bulannya. Buatlah sebuah histogram.\n",
    "calls_total_minutes = user_monthly_data.groupby('plan')['total_minutes'].sum()\n",
    "calls_total_minutes.plot(kind='hist', bins=20, xlabel='Jumlah Menit', ylabel='Frekuensi', title='Histogram Jumlah Menit Panggilan per Paket')\n"
   ]
  },
  {
   "cell_type": "markdown",
   "metadata": {},
   "source": [
    "Pada Histogram, ultimate dengan total minutes 292459.02 dan surf dengan total minutes 636691.24 memiliki Frequency yang setara antara. Tidak terlihat perbedaan mencolok pada Frequency keduanya."
   ]
  },
  {
   "cell_type": "code",
   "execution_count": 41,
   "metadata": {
    "scrolled": true
   },
   "outputs": [
    {
     "name": "stdout",
     "output_type": "stream",
     "text": [
      "                mean           var\n",
      "plan                              \n",
      "surf      412.097890  47001.254231\n",
      "ultimate  410.180954  50510.631705\n"
     ]
    }
   ],
   "source": [
    "# Hitung rata-rata dan varians dari durasi panggilan bulanan\n",
    "calls_avg_variance = user_monthly_data.groupby('plan')['total_minutes'].agg(['mean', 'var'])\n",
    "print(calls_avg_variance)\n"
   ]
  },
  {
   "cell_type": "markdown",
   "metadata": {},
   "source": [
    "1. Rata-Rata (Mean):\n",
    "\n",
    "Pengguna paket \"surf\" memiliki rata-rata durasi panggilan bulanan sekitar 412.10 menit.\n",
    "Pengguna paket \"ultimate\" memiliki rata-rata durasi panggilan bulanan sekitar 410.18 menit.\n",
    "\n",
    "2. Varians (Var):\n",
    "\n",
    "Varians durasi panggilan bulanan untuk pengguna paket \"surf\" sekitar 47001.25.\n",
    "Varians durasi panggilan bulanan untuk pengguna paket \"ultimate\" sekitar 50510.63.\n",
    "\n",
    "\n",
    "Meskipun rata-rata durasi panggilan bulanan antara pengguna paket \"surf\" dan \"ultimate\" relatif serupa, variasi dalam durasi panggilan bulanan lebih tinggi untuk pengguna paket \"ultimate\" (50510.63) dibandingkan dengan pengguna paket \"surf\" (47001.25). Varians yang lebih tinggi menunjukkan bahwa data durasi panggilan pengguna paket \"ultimate\" lebih tersebar atau memiliki variasi yang lebih besar daripada pengguna paket \"surf\".\n",
    "Perbedaan rata-rata yang kecil (412.10 vs. 410.18) mungkin tidak signifikan secara praktis, tetapi variabilitas yang lebih tinggi pada pengguna paket \"ultimate\" mungkin menjadi pertimbangan."
   ]
  },
  {
   "cell_type": "code",
   "execution_count": 42,
   "metadata": {
    "scrolled": true
   },
   "outputs": [
    {
     "data": {
      "image/png": "[encoded data removed]",
      "text/plain": [
       "<Figure size 720x432 with 1 Axes>"
      ]
     },
     "metadata": {
      "needs_background": "light"
     },
     "output_type": "display_data"
    }
   ],
   "source": [
    "# Buatlah grafik boxplot untuk memvisualisasikan distribusi durasi panggilan bulanan\n",
    "plt.figure(figsize=(10, 6))\n",
    "sns.boxplot(x='plan', y='total_minutes', data=user_monthly_data)\n",
    "plt.xlabel('Paket Prabayar')\n",
    "plt.ylabel('Durasi Panggilan (menit)')\n",
    "plt.title('Distribusi Durasi Panggilan Bulanan per Paket')\n",
    "plt.show()"
   ]
  },
  {
   "cell_type": "markdown",
   "metadata": {},
   "source": [
    "Berdasarkan boxplot, kita dapat melihat bahwa median durasi panggilan bulanan pada paket \"Ultimate\" dan \"Surf\" memiliki median yang hampir sama yaitu di durasi 400 menitan. Ini menunjukkan bahwa, secara umum, pengguna paket \"Ultimate\" dan \"Surf\" memiliki kecenderungan untuk memiliki durasi panggilan bulanan yang tidak jauh berbeda.\n",
    "\n",
    "Lebar dari kotak interquartile range pada paket \"Ultimate\" dan \"Surf\" juga memiliki lebar yang sama, menunjukkan bahwa distribusi durasi panggilan bulanan pada paket \"Ultimate\" dan \"Surf\" sama sama tersebar atau memiliki variasi yang hampir sama. \n",
    "\n",
    "Perilaku pengguna yang berbeda secara signifikan dari mayoritas terlihat pada outlier pada paket \"Surf\" yang sampai menyentuh angka 1400 menitan. \n"
   ]
  },
  {
   "cell_type": "markdown",
   "metadata": {},
   "source": [
    "### Pesan/SMS"
   ]
  },
  {
   "cell_type": "code",
   "execution_count": 43,
   "metadata": {
    "scrolled": true
   },
   "outputs": [
    {
     "data": {
      "text/plain": [
       "<AxesSubplot:title={'center':'Jumlah SMS per Paket'}, xlabel='Paket Prabayar', ylabel='Jumlah SMS'>"
      ]
     },
     "execution_count": 43,
     "metadata": {},
     "output_type": "execute_result"
    },
    {
     "data": {
      "image/png": "[encoded data removed]",
      "text/plain": [
       "<Figure size 432x288 with 1 Axes>"
      ]
     },
     "metadata": {
      "needs_background": "light"
     },
     "output_type": "display_data"
    }
   ],
   "source": [
    "# Bandingkan jumlah SMS yang cenderung dikirim pengguna tiap paket per bulannya\n",
    "sms_avg = user_monthly_data.groupby('plan')['total_messages'].mean()\n",
    "sms_avg.plot(kind='bar', rot=0, xlabel='Paket Prabayar', ylabel='Jumlah SMS', title='Jumlah SMS per Paket')"
   ]
  },
  {
   "cell_type": "markdown",
   "metadata": {},
   "source": [
    "Terlihat pada histogram Perbandingan jumlah SMS yang cenderung dikirim pengguna tiap paket per bulannya terlihat jelas paket Ultimate lebih tinggi jumlah sms nya dibandingkan dengan paket Surf. Hal ini dapat disebabkan karna paket ultimate memiliki lebih banyak alokasi SMS bulanan yaitu 1.000 sms dibandingkan dengan paket ultimate yang hanya 50 sms per bulan."
   ]
  },
  {
   "cell_type": "code",
   "execution_count": 44,
   "metadata": {
    "scrolled": true
   },
   "outputs": [
    {
     "data": {
      "image/png": "[encoded data removed]",
      "text/plain": [
       "<Figure size 432x288 with 1 Axes>"
      ]
     },
     "metadata": {
      "needs_background": "light"
     },
     "output_type": "display_data"
    }
   ],
   "source": [
    "# Bandingkan jumlah traffic internet yang dihabiskan oleh pengguna per paket\n",
    "internet_total_volume_sms = user_monthly_data.groupby('plan')['total_messages'].sum()\n",
    "internet_total_volume_sms.plot(kind='bar', xlabel='Paket Prabayar', ylabel='Jumlah Volume Internet (MB)', title='Total Volume Internet untuk Pesan/SMS per Paket')\n",
    "plt.show()"
   ]
  },
  {
   "cell_type": "markdown",
   "metadata": {},
   "source": [
    "Pada histogram terlihat bahwa paket \"Surf\" memiliki jumlah volume internet untuk Pesan/SMS per Paket lebih tinggi dibandingkan dengan paket \"Ultimate\".\n",
    "Berdasarkan kriteria paket yang tersedia, terdapat kemungkinan bahwa pengguna paket \"Ultimate\" memiliki alokasi kuota data yang lebih besar dibandingkan dengan paket \"Surf\". Meskipun paket \"Ultimate\" memiliki biaya bulanan yang lebih tinggi, pengguna mungkin tidak menggunakan secara maksimal kuota data yang disediakan oleh paket \"Ultimate\", sehingga volume internet untuk Pesan/SMS yang dihabiskan pada paket \"Ultimate\" dapat lebih rendah dibandingkan dengan paket \"Surf\"."
   ]
  },
  {
   "cell_type": "code",
   "execution_count": 45,
   "metadata": {
    "scrolled": true
   },
   "outputs": [
    {
     "name": "stdout",
     "output_type": "stream",
     "text": [
      "               mean          var\n",
      "plan                            \n",
      "surf      40.109656  1091.344231\n",
      "ultimate  46.296233  1085.183108\n"
     ]
    }
   ],
   "source": [
    "# Hitung rata-rata dan varians dari SMS bulanan\n",
    "sms_avg_variance = user_monthly_data.groupby('plan')['total_messages'].agg(['mean', 'var'])\n",
    "print(sms_avg_variance)"
   ]
  },
  {
   "cell_type": "markdown",
   "metadata": {},
   "source": [
    "Rata-rata Jumlah SMS: \n",
    "\n",
    "Rata-rata jumlah SMS bulanan pada paket \"Ultimate\" (46.30) lebih tinggi dibandingkan dengan paket \"Surf\" (40.11). Hal ini menunjukkan bahwa pengguna paket \"Ultimate\" cenderung mengirim lebih banyak SMS setiap bulannya. Hal ini terlihat wajar karna paket \"Ultimate\" memiliki alokasi SMS bulanan yang lebih tinggi yaitu 1000 SMS per bulan.\n",
    "\n",
    "Varians Jumlah SMS: \n",
    "\n",
    "Varians yang relatif rendah pada kedua paket menunjukkan bahwa sebagian besar pengguna dalam setiap paket memiliki jumlah SMS yang tidak jauh berbeda dari rata-rata. Varians yang rendah dapat mengindikasikan tingkat konsistensi yang tinggi dalam penggunaan SMS.\n",
    "\n",
    "\n",
    "Berdasarkan hasil ini, terlihat bahwa pengguna paket \"Ultimate\" memiliki rata-rata jumlah SMS bulanan yang lebih tinggi dibandingkan dengan pengguna paket \"Surf.\" Meskipun demikian, variasi dalam jumlah SMS tidak terlalu besar di kedua paket, menunjukkan bahwa sebagian besar pengguna dalam setiap paket memiliki perilaku yang konsisten dalam penggunaan SMS."
   ]
  },
  {
   "cell_type": "code",
   "execution_count": 46,
   "metadata": {},
   "outputs": [
    {
     "data": {
      "image/png": "[encoded data removed]",
      "text/plain": [
       "<Figure size 720x432 with 1 Axes>"
      ]
     },
     "metadata": {
      "needs_background": "light"
     },
     "output_type": "display_data"
    }
   ],
   "source": [
    "# Buatlah grafik boxplot untuk memvisualisasikan distribusi SMS bulanan\n",
    "plt.figure(figsize=(10, 6))\n",
    "sns.boxplot(x='plan', y='total_messages', data=user_monthly_data)\n",
    "plt.xlabel('Paket Prabayar')\n",
    "plt.ylabel('Jumlah SMS')\n",
    "plt.title('Distribusi Jumlah SMS Bulanan per Paket')\n",
    "plt.show()"
   ]
  },
  {
   "cell_type": "markdown",
   "metadata": {},
   "source": [
    "Berdasarkan Distribusi Jumlah SMS Bulanan per Paket yang direpresentasikan melalui boxplot antara paket Surf dan Ultimate.\n",
    "\n",
    "Median garis tengah pada kotak pada paket \"Ultimate\" terletak pada nilai yang lebih tinggi dibandingkan dengan paket \"Surf.\" Hal ini menunjukkan bahwa nilai tengah dari distribusi jumlah SMS bulanan pada paket \"Ultimate\" lebih tinggi.\n",
    "Rentang interkuartil kotak pada boxplot pada paket \"Ultimate\" juga lebih lebar, menunjukkan variasi yang lebih besar dalam jumlah SMS dibandingkan dengan paket \"Surf.\"\n",
    "\n",
    "\n",
    "Terdapat beberapa nilai outliers pada paket \"Ultimate,\" dan \"Surf\" yang menunjukkan adanya pengguna dengan jumlah SMS yang signifikan dan mungkin di luar kebiasaan. Nilai outliers pada paket \"Surf\" terlihat lebih tinggi.\n",
    "\n",
    "Distribusi Jumlah SMS Bulanan pada paket \"Ultimate\" cenderung memiliki nilai tengah yang lebih tinggi dan variasi yang lebih besar dibandingkan dengan paket \"Surf.\"\n",
    "\n",
    "\n",
    "\n",
    "\n",
    "\n",
    "\n"
   ]
  },
  {
   "cell_type": "markdown",
   "metadata": {},
   "source": [
    "### Internet"
   ]
  },
  {
   "cell_type": "code",
   "execution_count": 47,
   "metadata": {},
   "outputs": [
    {
     "name": "stdout",
     "output_type": "stream",
     "text": [
      "plan\n",
      "surf        16717.702137\n",
      "ultimate    17238.642253\n",
      "Name: total_mb_used, dtype: float64\n"
     ]
    }
   ],
   "source": [
    "# Bandingkan durasi rata-rata Internet setiap paket per bulannya\n",
    "internet_avg = user_monthly_data.groupby('plan')['total_mb_used'].mean()\n",
    "print(internet_avg)"
   ]
  },
  {
   "cell_type": "markdown",
   "metadata": {},
   "source": [
    "Berdasarkan hasil perbandingan durasi rata-rata penggunaan internet setiap paket per bulan,\n",
    "\n",
    "Surf memiliki rata-rata penggunaan internet pada paket sekitar 16,717.70 MB per bulan.\n",
    "Sedangkan Ultimate memiliki rata-rata penggunaan internet pada paket sedikit lebih tinggi, yaitu sekitar 17,238.64 MB per bulan.\n",
    "\n",
    "Secara umum, penggunaan internet pada paket \"Ultimate\" cenderung sedikit lebih tinggi daripada paket \"Surf.\"\n",
    "Perbedaan ini mungkin disebabkan oleh batasan kuota internet yang lebih besar pada paket \"Ultimate,\" yang memberikan pengguna lebih banyak fleksibilitas dalam penggunaan internet bulanan."
   ]
  },
  {
   "cell_type": "code",
   "execution_count": 48,
   "metadata": {
    "scrolled": true
   },
   "outputs": [
    {
     "data": {
      "image/png": "[encoded data removed]",
      "text/plain": [
       "<Figure size 432x288 with 1 Axes>"
      ]
     },
     "metadata": {
      "needs_background": "light"
     },
     "output_type": "display_data"
    }
   ],
   "source": [
    "# Bandingkan jumlah volume internet yang dibutuhkan pengguna tiap paket per bulannya\n",
    "internet_total_volume = user_monthly_data.groupby('plan')['total_mb_used'].sum()\n",
    "internet_total_volume.plot(kind='hist', bins=20, xlabel='Volume Internet (MB)', ylabel='Frekuensi', title='Histogram Jumlah Volume Internet per Paket')\n",
    "plt.show()"
   ]
  },
  {
   "cell_type": "markdown",
   "metadata": {},
   "source": [
    "Pada histogram Jumlah Volume Internet per Paket terlihat antara kedua paket terlihat tidak ada perbedaan, keduanya memiliki Frequency yang setara."
   ]
  },
  {
   "cell_type": "code",
   "execution_count": 49,
   "metadata": {
    "scrolled": false
   },
   "outputs": [
    {
     "name": "stdout",
     "output_type": "stream",
     "text": [
      "                  mean           var\n",
      "plan                                \n",
      "surf      16717.702137  6.216823e+07\n",
      "ultimate  17238.642253  6.132485e+07\n"
     ]
    }
   ],
   "source": [
    "# Hitung rata-rata dan varians dari internet bulanan\n",
    "internet_avg_variance = user_monthly_data.groupby('plan')['total_mb_used'].agg(['mean', 'var'])\n",
    "print(internet_avg_variance)"
   ]
  },
  {
   "cell_type": "markdown",
   "metadata": {},
   "source": [
    "Berdasarkan hasil perhitungan rata-rata dan varians dari penggunaan internet bulanan:\n",
    "\n",
    "1. Surf:\n",
    "\n",
    "Rata-rata penggunaan internet pada paket \"Surf\" adalah sekitar 16,717.70 MB.\n",
    "Varians dari penggunaan internet pada paket \"Surf\" adalah sekitar 62,168,230 MB.\n",
    "\n",
    "2. Ultimate:\n",
    "\n",
    "Rata-rata penggunaan internet pada paket \"Ultimate\" adalah sekitar 17,238.64 MB.\n",
    "Varians dari penggunaan internet pada paket \"Ultimate\" adalah sekitar 61,324,850.\n",
    "\n",
    "\n",
    "Rata-rata penggunaan internet cenderung lebih tinggi pada paket \"Ultimate\" daripada paket \"Surf,\" menunjukkan bahwa pengguna paket \"Ultimate\" secara keseluruhan cenderung menggunakan lebih banyak data internet setiap bulan.\n",
    "Varians yang relatif tinggi pada keduanya menunjukkan variasi yang signifikan dalam penggunaan internet di antara pengguna paket, baik \"Surf\" maupun \"Ultimate.\""
   ]
  },
  {
   "cell_type": "code",
   "execution_count": 50,
   "metadata": {},
   "outputs": [
    {
     "data": {
      "image/png": "[encoded data removed]",
      "text/plain": [
       "<Figure size 720x432 with 1 Axes>"
      ]
     },
     "metadata": {
      "needs_background": "light"
     },
     "output_type": "display_data"
    }
   ],
   "source": [
    "# Buatlah grafik boxplot untuk memvisualisasikan distribusi internet bulanan\n",
    "plt.figure(figsize=(10, 6))\n",
    "sns.boxplot(x='plan', y='total_mb_used', data=user_monthly_data)\n",
    "plt.xlabel('Paket Prabayar')\n",
    "plt.ylabel('Volume Internet (MB)')\n",
    "plt.title('Distribusi Volume Internet Bulanan per Paket')\n",
    "plt.show()"
   ]
  },
  {
   "cell_type": "markdown",
   "metadata": {},
   "source": [
    "Distribusi Volume Internet Bulanan per Paket, sebagaimana ditunjukkan oleh boxplot, memberikan wawasan mendalam tentang variabilitas dan kecenderungan penggunaan internet di antara pengguna paket \"Surf\" dan \"Ultimate\".\n",
    "\n",
    "Median / garis tengah kotak pada kedua paket nampak serupa, menunjukkan bahwa rata-rata penggunaan internet bulanan pada \"Surf\" dan \"Ultimate\" memiliki kecenderungan yang mirip.\n",
    "Rentang interkuartil / lebar kotak pada kedua paket juga sama, menunjukkan bahwa sebagian besar pengguna di kedua paket memiliki penggunaan internet yang konsisten.\n",
    "\n",
    "Outlier pada paket \"Surf\" terlihat lebih tersebar dan memiliki volume internet yang lebih tinggi, menandakan adanya variasi yang lebih besar dalam penggunaan internet oleh sebagian kecil pengguna. Outlier ini dapat mencerminkan beberapa pengguna \"Surf\" yang memiliki kebutuhan internet yang lebih tinggi atau lebih rendah daripada mayoritas.\n",
    "\n",
    "Meskipun median dan rentang interkuartil menunjukkan kesamaan dalam perilaku penggunaan internet bulanan, paket \"Surf\" memiliki outlier yang lebih terpisah, menunjukkan variasi penggunaan internet yang lebih besar di antara pengguna paket ini. Akan tetapi mereka para pengguna \"Surf\" lebih memilih harga paket yang lebih murah karna harga nya lebih terjangkau."
   ]
  },
  {
   "cell_type": "markdown",
   "metadata": {},
   "source": [
    "## Pendapatan"
   ]
  },
  {
   "cell_type": "code",
   "execution_count": 51,
   "metadata": {
    "scrolled": true
   },
   "outputs": [
    {
     "name": "stdout",
     "output_type": "stream",
     "text": [
      "plan\n",
      "surf        165454.475671\n",
      "ultimate    120363.189528\n",
      "Name: monthly_revenue, dtype: float64\n"
     ]
    }
   ],
   "source": [
    "# Hitung rata-rata pendapatan bulanan per paket\n",
    "average_monthly_revenue = user_monthly_data.groupby('plan')['monthly_revenue'].mean()\n",
    "print(average_monthly_revenue)"
   ]
  },
  {
   "cell_type": "markdown",
   "metadata": {},
   "source": [
    "Dari hasil perhitungan rata-rata pendapatan bulanan per paket, kita dapat mengidentifikasi perbedaan dalam kontribusi pendapatan antara pengguna paket \"Surf\" dan \"Ultimate\".\n",
    "\n",
    "Rata-rata pendapatan bulanan untuk paket \"Surf\" 165,454 Dolar jauh lebih tinggi dibandingkan dengan paket \"Ultimate\" yang hanya 120,363 Dolar.\n",
    "\n",
    "Berdasarkan data rata-rata pendapatan bulanan, paket \"Surf\" secara signifikan memberikan kontribusi lebih besar terhadap pendapatan dibandingkan dengan paket \"Ultimate\"."
   ]
  },
  {
   "cell_type": "code",
   "execution_count": 52,
   "metadata": {
    "scrolled": true
   },
   "outputs": [
    {
     "name": "stdout",
     "output_type": "stream",
     "text": [
      "plan\n",
      "surf        6.421178e+09\n",
      "ultimate    3.020892e+09\n",
      "Name: monthly_revenue, dtype: float64\n"
     ]
    }
   ],
   "source": [
    "# Hitung varians pendapatan bulanan per paket\n",
    "variance_monthly_revenue = user_monthly_data.groupby('plan')['monthly_revenue'].var()\n",
    "print(variance_monthly_revenue)"
   ]
  },
  {
   "cell_type": "markdown",
   "metadata": {},
   "source": [
    "Dari hasil perhitungan varians pendapatan bulanan per paket, kita dapat melihat seberapa besar variasi atau sebaran data pendapatan untuk masing-masing paket.\n",
    "\n",
    "Varians Pendapatan Bulanan:\n",
    "Paket \"Surf\" memiliki varians pendapatan bulanan sekitar 6.42 miliar Dolar.\n",
    "Paket \"Ultimate\" memiliki varians pendapatan bulanan sekitar 3.02 miliar Dolar.\n",
    "\n",
    "Varians yang lebih tinggi pada paket \"Surf\" menunjukkan bahwa pendapatan bulanan pengguna paket ini memiliki variasi yang lebih besar dibandingkan dengan paket \"Ultimate\"."
   ]
  },
  {
   "cell_type": "code",
   "execution_count": 53,
   "metadata": {},
   "outputs": [
    {
     "data": {
      "image/png": "[encoded data removed]",
      "text/plain": [
       "<Figure size 720x432 with 1 Axes>"
      ]
     },
     "metadata": {
      "needs_background": "light"
     },
     "output_type": "display_data"
    }
   ],
   "source": [
    "# Buat grafik boxplot untuk memvisualisasikan distribusi pendapatan bulanan per paket\n",
    "plt.figure(figsize=(10, 6))\n",
    "sns.boxplot(x='plan', y='monthly_revenue', data=user_monthly_data)\n",
    "plt.xlabel('Paket Prabayar')\n",
    "plt.ylabel('Pendapatan Bulanan (USD)')\n",
    "plt.title('Distribusi Pendapatan Bulanan per Paket Prabayar')\n",
    "plt.show()"
   ]
  },
  {
   "cell_type": "markdown",
   "metadata": {},
   "source": [
    "Dari hasil boxplot yang menggambarkan distribusi pendapatan bulanan per paket prabayar (Surf dan Ultimate), kita dapat melakukan beberapa observasi dan merumuskan kesimpulan terkait perilaku pengguna.\n",
    "\n",
    "Median pendapatan bulanan paket \"Surf\" lebih tinggi dibandingkan dengan paket \"Ultimate\". Ini menunjukkan bahwa nilai tengah pendapatan pengguna Surf cenderung lebih tinggi.\n",
    "\n",
    "Rentang interkuartil / lebar kotak paket \"Surf\" lebih lebar dibandingkan dengan paket \"Ultimate\". Hal ini menunjukkan variasi yang lebih besar dalam distribusi pendapatan bulanan untuk paket \"Surf\".\n",
    "\n",
    "Paket \"Surf\" memiliki lebih banyak outlier yang tersebar ke atas dan cenderung lebih tinggi dibandingkan dengan outlier paket \"Ultimate\". Ini menunjukkan adanya nilai-nilai ekstrim pada pendapatan pengguna Surf.\n",
    "\n",
    "Distribusi pendapatan bulanan pengguna paket \"Surf\" memiliki tingkat variasi yang lebih besar, ditandai dengan rentang interkuartil yang lebih lebar dan adanya outlier yang lebih banyak dan cenderung lebih tinggi dibandingkan dengan paket \"Ultimate\". Meskipun median pendapatan Surf lebih tinggi, variasi yang lebih besar menandakan bahwa pengguna paket ini memiliki tingkat keragaman yang signifikan dalam jumlah pengeluaran bulanan."
   ]
  },
  {
   "cell_type": "markdown",
   "metadata": {},
   "source": [
    " "
   ]
  },
  {
   "cell_type": "markdown",
   "metadata": {},
   "source": [
    "## Menguji Hipotesis Statistik"
   ]
  },
  {
   "cell_type": "markdown",
   "metadata": {},
   "source": [
    "Menguji hipotesis yang menyatakan bahwa pendapatan rata-rata dari pengguna paket prabayar Ultimate dan Surf berbeda. \n",
    "\n",
    "1. Hipotesis Nol (H0):\n",
    "\n",
    "Variabel Nol: Rata-rata pendapatan pengguna paket prabayar Ultimate sama dengan rata-rata pendapatan pengguna paket prabayar Surf.\n",
    "Pernyataan Matematis: μ_ultimate = μ_surf\n",
    "\n",
    "2. Hipotesis Alternatif (H1):\n",
    "\n",
    "Variabel Alternatif: Rata-rata pendapatan pengguna paket prabayar Ultimate tidak sama dengan rata-rata pendapatan pengguna paket prabayar Surf.\n",
    "Pernyataan Matematis: μ_ultimate ≠ μ_surf\n",
    "\n",
    "3. Pilihan Pengujian Statistik:\n",
    "\n",
    "Karena Kita ingin membandingkan dua rata-rata dari dua kelompok yang berbeda, Kita dapat menggunakan uji t independen.\n",
    "\n",
    "4. Nilai Alpha (tingkat signifikansi):\n",
    "\n",
    "Pilih nilai alpha (α) sebagai tingkat signifikansi statistik. Sebagai contoh, Kita dapat menggunakan α = 0.05."
   ]
  },
  {
   "cell_type": "code",
   "execution_count": 54,
   "metadata": {
    "scrolled": true
   },
   "outputs": [
    {
     "name": "stdout",
     "output_type": "stream",
     "text": [
      "p-value: 3.097453676794295e-52\n",
      "Kita menolak hipotesis nol: Pendapatan rata-rata pengguna paket Ultimate dan Surf berbeda.\n"
     ]
    }
   ],
   "source": [
    "# Uji hipotesisnya\n",
    "# Pisahkan data pendapatan untuk setiap paket\n",
    "ultimate_revenue = user_monthly_data[user_monthly_data['plan'] == 'ultimate']['monthly_revenue']\n",
    "surf_revenue = user_monthly_data[user_monthly_data['plan'] == 'surf']['monthly_revenue']\n",
    "\n",
    "alpha = 0.05  # Tetapkan tingkat signifikansi statistik\n",
    "\n",
    "# Uji hipotesis\n",
    "results = st.ttest_ind(ultimate_revenue, surf_revenue, equal_var=False)\n",
    "\n",
    "print('p-value:', results.pvalue)\n",
    "\n",
    "# Interpretasi hasil uji hipotesis\n",
    "if results.pvalue < alpha:\n",
    "    print(\"Kita menolak hipotesis nol: Pendapatan rata-rata pengguna paket Ultimate dan Surf berbeda.\")\n",
    "else:\n",
    "    print(\"Kita tidak bisa menolak hipotesis nol: Tidak ada cukup bukti untuk menyatakan bahwa pendapatan rata-rata berbeda.\")"
   ]
  },
  {
   "cell_type": "markdown",
   "metadata": {},
   "source": [
    "Kita menolak hipotesis nol karena p-value yang sangat kecil.\n",
    "Artinya, terdapat cukup bukti statistik untuk menyatakan bahwa pendapatan rata-rata pengguna paket prabayar Ultimate dan Surf berbeda.\n",
    "\n",
    "Berdasarkan hasil uji hipotesis, kita dapat menyimpulkan bahwa terdapat perbedaan yang signifikan dalam pendapatan rata-rata antara pengguna paket prabayar Ultimate dan Surf.\n",
    "Ini dapat memberikan informasi berharga bagi perusahaan untuk menyesuaikan strategi pemasaran, penetapan harga, atau penawaran layanan untuk meningkatkan pendapatan atau memahami preferensi pengguna pada masing-masing paket."
   ]
  },
  {
   "cell_type": "markdown",
   "metadata": {},
   "source": [
    "Perbandingan pendapatan rata-rata antara pengguna di wilayah NY-NJ dan pengguna dari wilayah lain:\n",
    "\n",
    "1. Hipotesis Nol (H0):\n",
    "\n",
    "Variabel Nol: Rata-rata pendapatan pengguna di wilayah NY-NJ sama dengan rata-rata pendapatan pengguna dari wilayah lain.\n",
    "Pernyataan Matematis: μ_ny_nj = μ_other\n",
    "\n",
    "2. Hipotesis Alternatif (H1):\n",
    "\n",
    "Variabel Alternatif: Rata-rata pendapatan pengguna di wilayah NY-NJ tidak sama dengan rata-rata pendapatan pengguna dari wilayah lain.\n",
    "Pernyataan Matematis: μ_ny_nj ≠ μ_other\n",
    "\n",
    "3.Pilihan Pengujian Statistik:\n",
    "\n",
    "Karena Kita ingin membandingkan dua rata-rata dari dua kelompok yang berbeda, Kita dapat menggunakan uji t independen.\n",
    "\n",
    "4. Nilai Alpha (tingkat signifikansi):\n",
    "\n",
    "Pilih nilai alpha (α) sebagai tingkat signifikansi statistik. Sebagai contoh, Kita dapat menggunakan α = 0.05."
   ]
  },
  {
   "cell_type": "code",
   "execution_count": 55,
   "metadata": {},
   "outputs": [
    {
     "data": {
      "text/html": [
       "<div>\n",
       "<style scoped>\n",
       "    .dataframe tbody tr th:only-of-type {\n",
       "        vertical-align: middle;\n",
       "    }\n",
       "\n",
       "    .dataframe tbody tr th {\n",
       "        vertical-align: top;\n",
       "    }\n",
       "\n",
       "    .dataframe thead th {\n",
       "        text-align: right;\n",
       "    }\n",
       "</style>\n",
       "<table border=\"1\" class=\"dataframe\">\n",
       "  <thead>\n",
       "    <tr style=\"text-align: right;\">\n",
       "      <th></th>\n",
       "      <th>user_id</th>\n",
       "      <th>month_year</th>\n",
       "      <th>total_calls_x</th>\n",
       "      <th>total_calls_y</th>\n",
       "      <th>total_minutes</th>\n",
       "      <th>total_messages</th>\n",
       "      <th>total_sessions</th>\n",
       "      <th>total_mb_used</th>\n",
       "      <th>city</th>\n",
       "      <th>plan</th>\n",
       "      <th>total_calls</th>\n",
       "      <th>monthly_revenue</th>\n",
       "    </tr>\n",
       "  </thead>\n",
       "  <tbody>\n",
       "    <tr>\n",
       "      <th>1233</th>\n",
       "      <td>1264</td>\n",
       "      <td>2018-08</td>\n",
       "      <td>45.0</td>\n",
       "      <td>45.0</td>\n",
       "      <td>268.01</td>\n",
       "      <td>55.0</td>\n",
       "      <td>48.0</td>\n",
       "      <td>13170.78</td>\n",
       "      <td>Los Angeles-Long Beach-Anaheim, CA MSA</td>\n",
       "      <td>ultimate</td>\n",
       "      <td>45.0</td>\n",
       "      <td>92055.46</td>\n",
       "    </tr>\n",
       "    <tr>\n",
       "      <th>424</th>\n",
       "      <td>1090</td>\n",
       "      <td>2018-09</td>\n",
       "      <td>55.0</td>\n",
       "      <td>55.0</td>\n",
       "      <td>386.35</td>\n",
       "      <td>21.0</td>\n",
       "      <td>45.0</td>\n",
       "      <td>17343.94</td>\n",
       "      <td>Indianapolis-Carmel-Anderson, IN MSA</td>\n",
       "      <td>surf</td>\n",
       "      <td>55.0</td>\n",
       "      <td>173309.40</td>\n",
       "    </tr>\n",
       "    <tr>\n",
       "      <th>1116</th>\n",
       "      <td>1245</td>\n",
       "      <td>2018-07</td>\n",
       "      <td>10.0</td>\n",
       "      <td>10.0</td>\n",
       "      <td>58.71</td>\n",
       "      <td>4.0</td>\n",
       "      <td>10.0</td>\n",
       "      <td>2530.84</td>\n",
       "      <td>New York-Newark-Jersey City, NY-NJ-PA MSA</td>\n",
       "      <td>surf</td>\n",
       "      <td>10.0</td>\n",
       "      <td>25178.40</td>\n",
       "    </tr>\n",
       "    <tr>\n",
       "      <th>713</th>\n",
       "      <td>1155</td>\n",
       "      <td>2018-02</td>\n",
       "      <td>11.0</td>\n",
       "      <td>11.0</td>\n",
       "      <td>86.04</td>\n",
       "      <td>8.0</td>\n",
       "      <td>12.0</td>\n",
       "      <td>4975.19</td>\n",
       "      <td>Miami-Fort Lauderdale-West Palm Beach, FL MSA</td>\n",
       "      <td>ultimate</td>\n",
       "      <td>11.0</td>\n",
       "      <td>34686.33</td>\n",
       "    </tr>\n",
       "    <tr>\n",
       "      <th>2132</th>\n",
       "      <td>1470</td>\n",
       "      <td>2018-08</td>\n",
       "      <td>84.0</td>\n",
       "      <td>84.0</td>\n",
       "      <td>547.38</td>\n",
       "      <td>141.0</td>\n",
       "      <td>NaN</td>\n",
       "      <td>NaN</td>\n",
       "      <td>Washington-Arlington-Alexandria, DC-VA-MD-WV MSA</td>\n",
       "      <td>surf</td>\n",
       "      <td>84.0</td>\n",
       "      <td>22.73</td>\n",
       "    </tr>\n",
       "  </tbody>\n",
       "</table>\n",
       "</div>"
      ],
      "text/plain": [
       "      user_id month_year  total_calls_x  total_calls_y  total_minutes  \\\n",
       "1233     1264    2018-08           45.0           45.0         268.01   \n",
       "424      1090    2018-09           55.0           55.0         386.35   \n",
       "1116     1245    2018-07           10.0           10.0          58.71   \n",
       "713      1155    2018-02           11.0           11.0          86.04   \n",
       "2132     1470    2018-08           84.0           84.0         547.38   \n",
       "\n",
       "      total_messages  total_sessions  total_mb_used  \\\n",
       "1233            55.0            48.0       13170.78   \n",
       "424             21.0            45.0       17343.94   \n",
       "1116             4.0            10.0        2530.84   \n",
       "713              8.0            12.0        4975.19   \n",
       "2132           141.0             NaN            NaN   \n",
       "\n",
       "                                                  city      plan  total_calls  \\\n",
       "1233            Los Angeles-Long Beach-Anaheim, CA MSA  ultimate         45.0   \n",
       "424               Indianapolis-Carmel-Anderson, IN MSA      surf         55.0   \n",
       "1116         New York-Newark-Jersey City, NY-NJ-PA MSA      surf         10.0   \n",
       "713      Miami-Fort Lauderdale-West Palm Beach, FL MSA  ultimate         11.0   \n",
       "2132  Washington-Arlington-Alexandria, DC-VA-MD-WV MSA      surf         84.0   \n",
       "\n",
       "      monthly_revenue  \n",
       "1233         92055.46  \n",
       "424         173309.40  \n",
       "1116         25178.40  \n",
       "713          34686.33  \n",
       "2132            22.73  "
      ]
     },
     "execution_count": 55,
     "metadata": {},
     "output_type": "execute_result"
    }
   ],
   "source": [
    "user_monthly_data.sample(5)"
   ]
  },
  {
   "cell_type": "code",
   "execution_count": 56,
   "metadata": {},
   "outputs": [
    {
     "name": "stdout",
     "output_type": "stream",
     "text": [
      "p-value: nan\n",
      "Kita tidak bisa menolak hipotesis nol: Tidak ada cukup bukti untuk menyatakan bahwa pendapatan rata-rata pengguna di wilayah NY-NJ berbeda.\n"
     ]
    }
   ],
   "source": [
    "# Uji hipotesisnya\n",
    "# Pisahkan data pendapatan untuk pengguna di wilayah NY-NJ dan wilayah lain\n",
    "ny_nj_revenue = user_monthly_data[user_monthly_data['city'] == 'NY-NJ']['monthly_revenue']\n",
    "other_revenue = user_monthly_data[user_monthly_data['city'] != 'NY-NJ']['monthly_revenue']\n",
    "\n",
    "alpha = 0.05  # Tetapkan tingkat signifikansi statistik\n",
    "\n",
    "# Uji hipotesis\n",
    "results = st.ttest_ind(ny_nj_revenue, other_revenue, equal_var=False)\n",
    "\n",
    "print('p-value:', results.pvalue)\n",
    "\n",
    "# Interpretasi hasil uji hipotesis\n",
    "if results.pvalue < alpha:\n",
    "    print(\"Kita menolak hipotesis nol: Pendapatan rata-rata pengguna di wilayah NY-NJ berbeda dengan wilayah lain.\")\n",
    "else:\n",
    "    print(\"Kita tidak bisa menolak hipotesis nol: Tidak ada cukup bukti untuk menyatakan bahwa pendapatan rata-rata pengguna di wilayah NY-NJ berbeda.\")"
   ]
  },
  {
   "cell_type": "markdown",
   "metadata": {},
   "source": [
    "Kita tidak bisa menolak hipotesis nol karena p-value tidak terdefinisi.\n",
    "Artinya, tidak ada cukup bukti statistik untuk menyatakan bahwa pendapatan rata-rata pengguna di wilayah NY-NJ berbeda dengan wilayah lain.\n",
    "\n",
    "Berdasarkan hasil uji hipotesis, kita tidak memiliki cukup bukti untuk menyatakan bahwa pendapatan rata-rata pengguna di wilayah NY-NJ berbeda dengan wilayah lain.\n"
   ]
  },
  {
   "cell_type": "markdown",
   "metadata": {},
   "source": [
    "## Kesimpulan Umum\n",
    "\n",
    "1. Paket Prabayar Surf vs. Ultimate:\n",
    "\n",
    "a. Penggunaan Panggilan:\n",
    "Durasi panggilan bulanan antara paket Surf dan Ultimate relatif serupa, namun variabilitasnya lebih tinggi pada paket Ultimate.\n",
    "Meskipun rata-rata durasi panggilan hampir sama, variasi yang lebih tinggi pada paket Ultimate dapat menjadi pertimbangan.\n",
    "Terdapat perbedaan pada outlier paket Surf yang menunjukkan variasi signifikan dalam penggunaan panggilan.\n",
    "\n",
    "b. Penggunaan SMS:\n",
    "Paket Ultimate memiliki alokasi SMS yang lebih tinggi dan rata-rata penggunaan SMS yang signifikan lebih tinggi dibandingkan dengan paket Surf.\n",
    "Variabilitas penggunaan SMS cenderung seragam di kedua paket.\n",
    "Distribusi jumlah SMS bulanan pada paket Ultimate memiliki variasi lebih besar dibandingkan dengan paket Surf.\n",
    "\n",
    "c. Penggunaan Internet:\n",
    "Meskipun rata-rata penggunaan internet hampir sama, variasi yang lebih besar terlihat pada paket Ultimate.\n",
    "Outlier pada paket Surf menunjukkan variasi yang signifikan dalam kebutuhan pengguna.\n",
    "\n",
    "2. Pendapatan:\n",
    "Rata-rata pendapatan bulanan pada paket Surf jauh lebih tinggi dibandingkan dengan paket Ultimate.\n",
    "Variabilitas pendapatan bulanan lebih besar pada paket Surf, terutama karena adanya outlier yang signifikan.\n",
    "Distribusi pendapatan bulanan paket Surf memiliki variasi yang lebih besar dibandingkan dengan paket Ultimate.\n",
    "\n",
    "3. Uji Hipotesis:\n",
    "\n",
    "Terdapat perbedaan yang signifikan dalam pendapatan rata-rata antara pengguna paket prabayar Ultimate dan Surf.\n",
    "Tidak ada cukup bukti untuk menyatakan bahwa pendapatan rata-rata pengguna di wilayah NY-NJ berbeda dengan wilayah lain.\n",
    "\n",
    "4. Saran untuk Perusahaan:\n",
    "\n",
    "Paket Surf:\n",
    "Perusahaan dapat mempertimbangkan untuk meningkatkan alokasi SMS dan data pada paket ini untuk menarik lebih banyak pelanggan.\n",
    "Strategi pemasaran dapat difokuskan pada menekankan keuntungan ekstra yang diberikan oleh paket Surf.\n",
    "Paket Ultimate:\n",
    "Menyadari variasi yang tinggi dalam penggunaan panggilan dan internet, perusahaan dapat menyesuaikan penawaran layanan atau menetapkan harga tambahan berdasarkan penggunaan.\n",
    "Strategi pemasaran dapat difokuskan pada memberikan nilai lebih untuk pengguna yang membutuhkan alokasi yang besar.\n",
    "\n",
    "5. Pemantauan Lanjutan:\n",
    "\n",
    "Perusahaan sebaiknya terus memantau dan menganalisis perilaku pengguna serta merespons dengan penyesuaian strategi.\n",
    "Pemantauan terhadap perubahan tren, kebutuhan pengguna, dan respon terhadap promosi atau perubahan layanan dapat membantu perusahaan untuk tetap kompetitif dan memaksimalkan pendapatan.\n",
    "\n",
    "Analisis ini memberikan pemahaman yang komprehensif tentang perilaku pengguna pada paket prabayar Surf dan Ultimate. Dengan informasi ini, perusahaan dapat membuat keputusan strategis yang lebih baik untuk meningkatkan pendapatan dan memenuhi kebutuhan pelanggan dengan lebih baik.\n"
   ]
  },
  {
   "cell_type": "code",
   "execution_count": null,
   "metadata": {},
   "outputs": [],
   "source": []
  }
 ],
 "metadata": {
  "ExecuteTimeLog": [
   {
    "duration": 828,
    "start_time": "2021-11-16T09:21:11.304Z"
   },
   {
    "duration": 893,
    "start_time": "2021-11-16T09:21:17.728Z"
   },
   {
    "duration": 1150,
    "start_time": "2021-11-16T09:21:29.568Z"
   },
   {
    "duration": 3,
    "start_time": "2021-11-16T09:24:14.495Z"
   },
   {
    "duration": 120,
    "start_time": "2021-11-16T09:24:46.630Z"
   },
   {
    "duration": 3,
    "start_time": "2021-11-16T09:28:27.882Z"
   },
   {
    "duration": 4,
    "start_time": "2021-11-16T09:29:54.281Z"
   },
   {
    "duration": 3,
    "start_time": "2021-11-16T09:30:45.936Z"
   },
   {
    "duration": 4,
    "start_time": "2021-11-16T09:31:06.300Z"
   },
   {
    "duration": 113,
    "start_time": "2021-11-16T09:31:37.208Z"
   },
   {
    "duration": 143,
    "start_time": "2021-11-16T09:31:48.656Z"
   },
   {
    "duration": 98,
    "start_time": "2021-11-16T09:31:55.678Z"
   },
   {
    "duration": 3,
    "start_time": "2021-11-16T09:32:08.535Z"
   },
   {
    "duration": 111,
    "start_time": "2021-11-16T09:32:10.120Z"
   },
   {
    "duration": 3,
    "start_time": "2021-11-16T09:32:15.732Z"
   },
   {
    "duration": 4,
    "start_time": "2021-11-16T09:32:29.423Z"
   },
   {
    "duration": 3,
    "start_time": "2021-11-16T10:03:03.074Z"
   },
   {
    "duration": 3,
    "start_time": "2021-11-16T10:10:01.288Z"
   },
   {
    "duration": 3,
    "start_time": "2021-11-16T10:10:46.923Z"
   },
   {
    "duration": 121,
    "start_time": "2021-11-16T10:37:46.494Z"
   },
   {
    "duration": 125,
    "start_time": "2021-11-16T10:38:20.632Z"
   },
   {
    "duration": 112,
    "start_time": "2021-11-16T10:46:53.001Z"
   },
   {
    "duration": 110,
    "start_time": "2021-11-16T10:48:25.775Z"
   },
   {
    "duration": 3,
    "start_time": "2021-11-16T10:50:18.720Z"
   },
   {
    "duration": 4,
    "start_time": "2021-11-16T10:50:37.649Z"
   },
   {
    "duration": 2,
    "start_time": "2021-11-16T10:50:51.884Z"
   },
   {
    "duration": 3,
    "start_time": "2021-11-16T10:51:56.237Z"
   },
   {
    "duration": 101,
    "start_time": "2021-11-16T10:53:13.791Z"
   },
   {
    "duration": 3,
    "start_time": "2021-11-16T10:55:59.186Z"
   },
   {
    "duration": 3,
    "start_time": "2021-11-16T10:56:10.751Z"
   },
   {
    "duration": 3,
    "start_time": "2021-11-16T10:56:49.038Z"
   },
   {
    "duration": 3,
    "start_time": "2021-11-16T10:56:49.174Z"
   },
   {
    "duration": 4,
    "start_time": "2021-11-16T10:56:49.414Z"
   },
   {
    "duration": 3,
    "start_time": "2021-11-16T10:56:49.680Z"
   },
   {
    "duration": 3,
    "start_time": "2021-11-16T10:56:50.370Z"
   },
   {
    "duration": 114,
    "start_time": "2021-11-16T10:59:34.518Z"
   },
   {
    "duration": 3,
    "start_time": "2021-11-16T11:01:41.201Z"
   },
   {
    "duration": 116,
    "start_time": "2021-11-16T11:01:48.754Z"
   },
   {
    "duration": 3,
    "start_time": "2021-11-16T11:02:16.685Z"
   },
   {
    "duration": 3,
    "start_time": "2021-11-16T11:02:19.479Z"
   },
   {
    "duration": 3,
    "start_time": "2021-11-16T11:02:47.067Z"
   },
   {
    "duration": 3,
    "start_time": "2021-11-16T11:02:49.353Z"
   },
   {
    "duration": 3,
    "start_time": "2021-11-16T11:03:07.835Z"
   },
   {
    "duration": 3,
    "start_time": "2021-11-16T11:03:07.953Z"
   },
   {
    "duration": 112,
    "start_time": "2021-11-16T11:07:52.072Z"
   },
   {
    "duration": 187,
    "start_time": "2021-11-16T11:09:23.468Z"
   },
   {
    "duration": 4,
    "start_time": "2021-11-16T11:10:01.455Z"
   },
   {
    "duration": 3,
    "start_time": "2021-11-16T11:10:05.069Z"
   },
   {
    "duration": 4,
    "start_time": "2021-11-16T11:10:13.376Z"
   },
   {
    "duration": 3,
    "start_time": "2021-11-16T11:10:14.434Z"
   },
   {
    "duration": 3,
    "start_time": "2021-11-16T11:10:22.853Z"
   },
   {
    "duration": 4,
    "start_time": "2021-11-16T11:27:29.279Z"
   },
   {
    "duration": 4,
    "start_time": "2021-11-16T11:29:08.919Z"
   },
   {
    "duration": 118,
    "start_time": "2021-11-16T11:29:46.703Z"
   },
   {
    "duration": 437,
    "start_time": "2021-11-16T11:36:02.181Z"
   },
   {
    "duration": 157,
    "start_time": "2021-11-16T11:36:14.388Z"
   },
   {
    "duration": 207,
    "start_time": "2021-11-16T11:47:15.898Z"
   },
   {
    "duration": 3,
    "start_time": "2021-11-16T11:53:52.092Z"
   },
   {
    "duration": 3,
    "start_time": "2021-11-16T11:53:52.236Z"
   },
   {
    "duration": 3,
    "start_time": "2021-11-16T11:59:12.005Z"
   },
   {
    "duration": 112,
    "start_time": "2021-11-16T12:00:33.446Z"
   },
   {
    "duration": 3,
    "start_time": "2021-11-16T12:02:14.453Z"
   },
   {
    "duration": 3,
    "start_time": "2021-11-16T12:02:39.512Z"
   },
   {
    "duration": 106,
    "start_time": "2021-11-16T12:03:03.460Z"
   },
   {
    "duration": 3,
    "start_time": "2021-11-17T20:37:21.139Z"
   },
   {
    "duration": 3,
    "start_time": "2021-11-17T20:37:22.229Z"
   },
   {
    "duration": 3,
    "start_time": "2021-11-17T20:38:38.806Z"
   },
   {
    "duration": 3,
    "start_time": "2021-11-17T20:38:41.958Z"
   },
   {
    "duration": 3,
    "start_time": "2021-11-17T20:43:46.551Z"
   },
   {
    "duration": 4,
    "start_time": "2021-11-17T20:58:21.835Z"
   },
   {
    "duration": 3,
    "start_time": "2021-11-17T20:59:21.872Z"
   },
   {
    "duration": 4,
    "start_time": "2021-11-17T20:59:45.352Z"
   },
   {
    "duration": 4,
    "start_time": "2021-11-17T20:59:49.646Z"
   },
   {
    "duration": 159,
    "start_time": "2021-11-17T21:02:26.949Z"
   },
   {
    "duration": 3,
    "start_time": "2021-11-17T21:03:53.461Z"
   },
   {
    "duration": 3,
    "start_time": "2021-11-17T21:03:53.694Z"
   },
   {
    "duration": 3,
    "start_time": "2021-11-17T21:05:28.145Z"
   },
   {
    "duration": 116,
    "start_time": "2021-11-17T21:05:57.787Z"
   },
   {
    "duration": 3,
    "start_time": "2021-11-17T21:06:37.993Z"
   },
   {
    "duration": 3,
    "start_time": "2021-11-17T21:06:38.261Z"
   },
   {
    "duration": 3,
    "start_time": "2021-11-17T21:11:54.358Z"
   },
   {
    "duration": 3,
    "start_time": "2021-11-17T21:12:43.846Z"
   },
   {
    "duration": 4,
    "start_time": "2021-11-17T21:13:08.773Z"
   },
   {
    "duration": 3,
    "start_time": "2021-11-17T21:14:44.441Z"
   },
   {
    "duration": 3,
    "start_time": "2021-11-17T21:15:42.059Z"
   },
   {
    "duration": 4,
    "start_time": "2021-11-17T21:15:51.995Z"
   },
   {
    "duration": 3,
    "start_time": "2021-11-17T21:15:53.923Z"
   },
   {
    "duration": 3,
    "start_time": "2021-11-17T21:15:55.282Z"
   },
   {
    "duration": 3,
    "start_time": "2021-11-17T21:16:28.492Z"
   },
   {
    "duration": 3,
    "start_time": "2021-11-17T21:16:32.603Z"
   },
   {
    "duration": 3,
    "start_time": "2021-11-17T21:17:06.941Z"
   },
   {
    "duration": 98,
    "start_time": "2021-11-17T21:18:05.733Z"
   },
   {
    "duration": 4,
    "start_time": "2021-11-17T21:21:35.255Z"
   },
   {
    "duration": 3,
    "start_time": "2021-11-17T21:21:37.804Z"
   },
   {
    "duration": 4,
    "start_time": "2021-11-17T21:23:06.071Z"
   },
   {
    "duration": 3,
    "start_time": "2021-11-17T21:23:24.799Z"
   },
   {
    "duration": 3,
    "start_time": "2021-11-17T21:23:32.591Z"
   },
   {
    "duration": 98,
    "start_time": "2021-11-17T21:28:31.559Z"
   },
   {
    "duration": 3,
    "start_time": "2021-11-17T21:28:45.448Z"
   },
   {
    "duration": 3,
    "start_time": "2021-11-17T21:29:17.303Z"
   },
   {
    "duration": 3,
    "start_time": "2021-11-17T21:29:29.617Z"
   },
   {
    "duration": 3,
    "start_time": "2021-11-17T21:29:32.681Z"
   },
   {
    "duration": 3,
    "start_time": "2021-11-17T21:36:11.474Z"
   },
   {
    "duration": 3,
    "start_time": "2021-11-17T21:36:14.791Z"
   },
   {
    "duration": 3,
    "start_time": "2021-11-17T21:36:53.943Z"
   },
   {
    "duration": 3,
    "start_time": "2021-11-17T21:36:56.165Z"
   },
   {
    "duration": 4,
    "start_time": "2021-11-17T21:37:16.590Z"
   },
   {
    "duration": 3,
    "start_time": "2021-11-17T21:37:22.702Z"
   },
   {
    "duration": 4,
    "start_time": "2021-11-17T21:38:03.479Z"
   },
   {
    "duration": 3,
    "start_time": "2021-11-17T21:38:08.601Z"
   },
   {
    "duration": 3,
    "start_time": "2021-11-17T21:38:12.928Z"
   },
   {
    "duration": 3,
    "start_time": "2021-11-17T21:38:48.896Z"
   },
   {
    "duration": 2,
    "start_time": "2021-11-17T21:38:49.171Z"
   },
   {
    "duration": 4,
    "start_time": "2021-11-17T21:39:57.889Z"
   },
   {
    "duration": 3,
    "start_time": "2021-11-17T21:39:58.057Z"
   },
   {
    "duration": 3,
    "start_time": "2021-11-17T21:41:20.108Z"
   },
   {
    "duration": 3,
    "start_time": "2021-11-17T21:41:20.629Z"
   },
   {
    "duration": 3,
    "start_time": "2021-11-17T21:42:49.136Z"
   },
   {
    "duration": 3,
    "start_time": "2021-11-17T21:43:15.137Z"
   },
   {
    "duration": 4,
    "start_time": "2021-11-17T21:43:16.766Z"
   },
   {
    "duration": 4,
    "start_time": "2021-11-17T21:43:31.711Z"
   },
   {
    "duration": 3,
    "start_time": "2021-11-17T21:43:36.312Z"
   },
   {
    "duration": 4,
    "start_time": "2021-11-17T21:45:08.825Z"
   },
   {
    "duration": 4,
    "start_time": "2021-11-17T21:45:10.119Z"
   },
   {
    "duration": 4,
    "start_time": "2021-11-17T21:45:13.748Z"
   },
   {
    "duration": 3,
    "start_time": "2021-11-17T21:45:22.219Z"
   },
   {
    "duration": 3,
    "start_time": "2021-11-17T21:45:33.412Z"
   },
   {
    "duration": 2,
    "start_time": "2021-11-17T21:46:01.885Z"
   },
   {
    "duration": 3,
    "start_time": "2021-11-17T21:46:03.628Z"
   },
   {
    "duration": 107,
    "start_time": "2021-11-17T21:47:32.512Z"
   },
   {
    "duration": 103,
    "start_time": "2021-11-17T21:50:36.243Z"
   },
   {
    "duration": 3,
    "start_time": "2021-11-18T06:28:31.440Z"
   },
   {
    "duration": 3,
    "start_time": "2021-11-18T06:29:00.168Z"
   },
   {
    "duration": 3,
    "start_time": "2021-11-18T06:31:27.008Z"
   },
   {
    "duration": 2,
    "start_time": "2021-11-18T06:35:34.288Z"
   },
   {
    "duration": 2,
    "start_time": "2021-11-18T06:38:04.527Z"
   }
  ],
  "kernelspec": {
   "display_name": "Python 3 (ipykernel)",
   "language": "python",
   "name": "python3"
  },
  "language_info": {
   "codemirror_mode": {
    "name": "ipython",
    "version": 3
   },
   "file_extension": ".py",
   "mimetype": "text/x-python",
   "name": "python",
   "nbconvert_exporter": "python",
   "pygments_lexer": "ipython3",
   "version": "3.9.5"
  },
  "toc": {
   "base_numbering": 1,
   "nav_menu": {},
   "number_sections": true,
   "sideBar": true,
   "skip_h1_title": false,
   "title_cell": "Table of Contents",
   "title_sidebar": "Contents",
   "toc_cell": false,
   "toc_position": {
    "height": "calc(100% - 180px)",
    "left": "10px",
    "top": "150px",
    "width": "165px"
   },
   "toc_section_display": true,
   "toc_window_display": true
  }
 },
 "nbformat": 4,
 "nbformat_minor": 2
}
